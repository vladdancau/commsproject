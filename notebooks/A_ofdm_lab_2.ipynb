{
 "cells": [
  {
   "cell_type": "markdown",
   "metadata": {},
   "source": [
    "---\n",
    "\n",
    "## A - OFDM Python Lab\n",
    "\n",
    "Following on from the lectures and the previous notebooks on the fundamental properties of OFDM, the goal of this lab is to understand and implement the OFDM physical layer.\n",
    "\n",
    "You are provided with an OFDM signal coming from a multipath, noisy channel that we have received (<code>homework_x.npy</code>) in the lab and need to implement the receiver part of OFDM modem.\n",
    "\n",
    "For this, you will need to implement the following RX signal chain :\n",
    "\n",
    "* Cyclic Prefix Removal  \n",
    "* Fast Fourrier Transform (FFT)\n",
    "* Channel Estimation\n",
    "* Equalization\n",
    "* Data decoding\n",
    "\n",
    "\n",
    "---\n"
   ]
  },
  {
   "cell_type": "code",
   "execution_count": 2,
   "metadata": {},
   "outputs": [],
   "source": [
    "import numpy as np\n",
    "import matplotlib.pyplot as plt\n",
    "import helper_functions as hf"
   ]
  },
  {
   "cell_type": "markdown",
   "metadata": {},
   "source": [
    "Open the homework assignment file that  has been sent to you:"
   ]
  },
  {
   "cell_type": "code",
   "execution_count": 3,
   "metadata": {},
   "outputs": [],
   "source": [
    "rx_signal = np.load('homework11.npy')"
   ]
  }
 ],
 "metadata": {
  "kernelspec": {
   "display_name": "base",
   "language": "python",
   "name": "python3"
  },
  "language_info": {
   "codemirror_mode": {
    "name": "ipython",
    "version": 3
   },
   "file_extension": ".py",
   "mimetype": "text/x-python",
   "name": "python",
   "nbconvert_exporter": "python",
   "pygments_lexer": "ipython3",
   "version": "3.10.12"
  }
 },
 "nbformat": 4,
 "nbformat_minor": 2
}
