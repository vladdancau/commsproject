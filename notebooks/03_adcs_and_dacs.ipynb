{
 "cells": [
  {
   "cell_type": "markdown",
   "metadata": {},
   "source": [
    "---\n",
    "\n",
    "## 03 - ADCs and DACs\n",
    "This notebook explores topics relating to the analogue-digital interface. These include aliasing and anti-aliasing filters for analogue to digital conversion and zero-order-hold techniques and reconstruction filters for digital to analogue conversion.\n",
    "\n",
    "## Table of Contents\n",
    "* [1. Introduction](#introduction)\n",
    "* [2. Analogue to Digital Conversion](#adc)\n",
    "    * [2.1. Aliasing](#aliasing)\n",
    "    * [2.2. Anti-Aliasing Filter](#anti-aliasing-filter)\n",
    "* [3. Digital to Analogue Conversion](#dac)\n",
    "    * [3.1. Zero-Order-Hold](#zero-order-hold)\n",
    "    * [3.2. Reconstruction Filter](#reconstruction-filter)\n",
    "* [4. Upper Nyquist Zones](#upper-nyquist-zones)\n",
    "* [5. Conclusion](#conclusion)\n",
    "---\n"
   ]
  }
 ],
 "metadata": {
  "language_info": {
   "name": "python"
  }
 },
 "nbformat": 4,
 "nbformat_minor": 2
}
