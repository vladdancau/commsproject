{
 "cells": [
  {
   "cell_type": "markdown",
   "metadata": {},
   "source": [
    "---\n",
    "\n",
    "## 18 - OFDM Python Lab 1 (Graded)\n",
    "\n",
    "Following on from the lectures and the previous notebooks on the fundamental properties of OFDM\n",
    "\n",
    "* Review major steps in OFDM transmitter \n",
    "* Pass signal through multipath channel and add AWGN noise \n",
    "* Review major steps in OFDM receiver \n",
    "* Demonstrate channel estimation and the one-tap equaliser\n",
    "\n",
    "##  Table of Contents \n",
    "\n",
    "* [1. Introduction](#introduction)\n",
    "* [2. OFDM Transmitter](#ofdmtx)\n",
    "   * [2.1. Training Symbol Generation](#training)\n",
    "   * [2.2. OFDM Symbol Generation](#data)\n",
    "* [3. Wireless Channel](#channel)\n",
    "* [4. OFDM Receiver](#ofdmrx)\n",
    "   * [4.1. Channel Estimation](#chanest)\n",
    "   * [4.2. Channel Equalisation](#chaneq)\n",
    "* [5. Conclusion](#conclusion)\n",
    "\n",
    "\n",
    "---\n"
   ]
  }
 ],
 "metadata": {
  "language_info": {
   "name": "python"
  }
 },
 "nbformat": 4,
 "nbformat_minor": 2
}
