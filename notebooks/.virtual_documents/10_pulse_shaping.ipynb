





import numpy as np
import matplotlib.pyplot as plt





# Function to add white gaussian noise to a signal, specify SNR in dB
def awgn(signal, snr):
    sig_power = np.mean(np.abs(signal)**2) # calculate signal power
    sig_power_db = 10* np.log10(sig_power) # convert to dB

    noise_power_db = sig_power_db - snr
    noise_power = 10**(noise_power_db / 10)

    complex_noise = np.sqrt(noise_power/2)*(np.random.randn(len(signal)) + \
                                            np.random.randn(len(signal))*1j)

    return signal + complex_noise

# Function to generate BPSK
def generate_bpsk(num_symbols, noise=50):
    bits = np.random.randint(0,2,num_symbols)
    bpsk_scheme = [1+0j, -1+0j]
    bpsk_symbols = np.array([bpsk_scheme[i] for i in bits])
    
    bpsk_symbols = awgn(bpsk_symbols, noise)
    
    return bpsk_symbols





symbols = generate_bpsk(2048)
plt.stem(symbols.real[:8], use_line_collection=True)
plt.xlabel('Samples')
plt.ylabel('Amplitude')
plt.title('BPSK Pulses')
plt.show()





fs = 128
fft_size = 2048

y_fft = np.fft.fftshift(np.fft.fft(generate_bpsk(fft_size),fft_size))[int(fft_size/2):]
freqs = np.fft.fftshift(np.fft.fftfreq(fft_size,1/fs))[int(fft_size/2):]

plt.plot(freqs, np.abs(y_fft))
plt.xlabel('Frequency, Hz')
plt.ylabel('Magnitude')
plt.title('BPSK Pulses in Frequency Domain')
plt.show()





# Number of symbol repeats
N = 8

# Apply square shape to the BPSK symbols
symbols_square_shaped = np.repeat(symbols,N)

# Plot some of the pulse shaped symbols
plt.stem(symbols_square_shaped.real[:64], use_line_collection=True)
plt.xlabel('Samples')
plt.ylabel('Amplitude')
plt.show()





# Create clean square wave
square_wave = np.repeat(np.array([0, 1, 0, 1, 0, 1, 0, 1, 0, 1]),8)

# Take the fft of the square wave and calculate corresponding x-axis frequencies
y_fft = np.fft.fftshift(np.fft.fft(square_wave,fft_size))[int(fft_size/2):]
freqs = np.fft.fftshift(np.fft.fftfreq(fft_size,1/fs))[int(fft_size/2):]

fig, ax = plt.subplots(1,2, figsize=(10,4))
ax[0].plot(square_wave)
ax[0].set_xlabel('Samples')
ax[0].set_ylabel('Amplitude')
ax[0].set_title('Time Domain')
ax[1].plot(freqs, np.abs(y_fft))
ax[1].set_xlabel('Frequency, Hz')
ax[1].set_title('Frequency Domain')
fig.tight_layout()





y_fft = np.fft.fftshift(np.fft.fft(symbols_square_shaped,fft_size))[int(fft_size/2):]
freqs = np.fft.fftshift(np.fft.fftfreq(fft_size,1/fs))[int(fft_size/2):]

plt.plot(freqs, np.abs(y_fft))
plt.xlabel('Frequency, Hz')
plt.ylabel('Magnitude')
plt.title('Square Shaped Pulses in Frequency Domain')
plt.show()





weights = [0.25, 0.25, 0.25, 0.25]
filtered_symbols = np.convolve(np.repeat(symbols,4).real, weights)





plt.stem(filtered_symbols.real[:64], use_line_collection=True)
plt.plot(filtered_symbols.real[:64])
plt.show()





# Calculate the one-sided FFT of the filtered signal
y_fft = np.fft.fftshift(np.fft.fft(filtered_symbols,fft_size))[int(fft_size/2):]
freqs = np.fft.fftshift(np.fft.fftfreq(fft_size,1/fs))[int(fft_size/2):]

# Plot the result
plt.plot(freqs, np.abs(y_fft))
plt.xlabel('Frequency, Hz')
plt.ylabel('Magnitude')
plt.title('Square Shaped Pulses in Frequency Domain')
plt.show()





T = 1 # sample period
sps = 5 # symbol period in samples
num_weights = 251
x = np.arange(-int(num_weights/2),int(num_weights/2)+1,1)/sps/T
sinc_weights = np.sinc(x)

plt.plot(x,sinc_weights)
plt.title('Sinc function')
plt.xlabel('Time samples, t')
plt.ylabel('n(t)')
plt.show()





# Create another, shorter sinc filter
# num_weights = 4 symbol periods * 5 samples per symbol + 1
num_weights = 21
x = np.arange(-int(num_weights/2),int(num_weights/2)+1,1)/sps
sinc_weights2 = np.sinc(x)





# Calculate frequency responses of the 2 filters
fft_size = 1024
sinc1_response = 20*np.log10(np.abs(np.fft.fftshift(np.fft.fft(sinc_weights, fft_size)))/fs)
sinc2_response = 20*np.log10(np.abs(np.fft.fftshift(np.fft.fft(sinc_weights2, fft_size)))/fs)

# Plot the frequency responses
plt.plot(sinc1_response[int(fft_size/2):-250]) # truncated for better viewing experience
plt.plot(sinc2_response[int(fft_size/2):-250])

plt.legend(('50 symbol periods', '4 symbol periods'))
plt.title('Sinc filter magnitude responses')
plt.ylabel('Magnitude, Hz')
plt.xlabel('Frequency, Hz')
plt.show()





sps = 5
num_weights = 101
x = 0.9999*np.arange(-int(num_weights/2),int(num_weights/2)+1,1)/sps

alphas = [0, 0.25, 0.5, 0.75]
for alpha in alphas:
    raised_cos_weights = np.sinc(x)*(np.cos(alpha*np.pi*x)/(1-((2*alpha*x)**2)))
    plt.plot(x,raised_cos_weights)

plt.legend((r'$\alpha = 0$', r'$\alpha = 0.25$', r'$\alpha = 0.5$', r'$\alpha = 0.75$'))
plt.ylabel('Filter weight magnitude')
plt.xlabel('Filter weight index')
plt.show()





sps = 5
num_weights = 121
x = 0.9999*np.arange(-int(num_weights/2),int(num_weights/2)+1,1)/sps

for alpha in alphas:
    raised_cos_weights = np.sinc(x)*(np.cos(alpha*np.pi*x)/(1-((2*alpha*x)**2)))

    rcos_response = 20*np.log10(np.abs(np.fft.fftshift(np.fft.fft(raised_cos_weights, fft_size)))/sps)
    plt.plot(rcos_response[int(fft_size/2):-100])
    
plt.legend((r'$\alpha = 0$', r'$\alpha = 0.25$', r'$\alpha = 0.5$', r'$\alpha = 0.75$'))
plt.title('Magnitude Response')
plt.xlabel('Frequency, Hz')
plt.ylabel('Magnitude, dB')
plt.show()





fs = 5
num_weights = 41
alpha = 0.5
x = 0.9999*np.arange(-int(num_weights/2),int(num_weights/2)+1,1)/fs
raised_cos_weights = np.sinc(x)*(np.cos(alpha*np.pi*x)/(1-((2*alpha*x)**2)))





# Generate pulse vectors
pulse1 = np.zeros(21,)
pulse2 = np.zeros(21,)
pulse3 = np.zeros(21,)
pulse1[5] = 1
pulse2[10] = 1
pulse3[15] = 1

# Pulse shape each symbol separately 
symbol1_rc = np.convolve(pulse1,raised_cos_weights).real
symbol2_rc = np.convolve(pulse2,raised_cos_weights).real
symbol3_rc = np.convolve(pulse3,raised_cos_weights).real

# Pulse shape the combination of symbols
symbols_rc = np.convolve(pulse1+pulse2+pulse3,raised_cos_weights).real

# Plot them all
fig, ax = plt.subplots(1,3, figsize=(16,4))

ax[0].plot(pulse1, '-o')
ax[0].plot(pulse2, '-o')
ax[0].plot(pulse3, '-o')
ax[0].set_title('Individual Pulses')
ax[0].set_xlabel('Samples')
ax[0].set_ylabel('Amplitude')
ax[0].legend(('Pulse 1', 'Pulse 2', 'Pulse 3'), loc='center left')

ax[1].plot(symbol1_rc)
ax[1].plot(symbol2_rc)
ax[1].plot(symbol3_rc)
ax[1].plot([15,20,25,30,35,40,45], [0,0,0,0,0,0,0], 'x')
ax[1].set_title('RC Pulse Shaped Symbols')
ax[1].set_xlabel('Samples')
ax[1].set_ylabel('Amplitude')
ax[1].legend(('Symbol 1', 'Symbol 2', 'Symbol 3', 'Zero Crossings'), loc='center left')

ax[2].plot(symbols_rc)
ax[2].plot([5+20,10+20,15+20], [1,1,1],'x')
ax[2].set_title('RC Pulse Shaped Transmission')
ax[2].set_xlabel('Samples')
ax[2].set_ylabel('Amplitude')
ax[2].legend(('Transmission', 'Maximum Effect Points'), loc='center left')
fig.tight_layout()





import warnings
warnings.filterwarnings("ignore", category=RuntimeWarning)

# Base parameters, same as rcos in the previous example
fs = 5
Ts =  1/fs
alpha = 0.5

num_weights = 41
x = np.arange(-int(num_weights/2),int(num_weights/2)+1,1)/fs

# Impulse response according to definition
h_rrc = 1/Ts*(np.sin(np.pi*x*(1-alpha)) + 4*alpha*x*np.cos(np.pi*x*(1+alpha)))/(np.pi*x*(1-(4*alpha*x)**2))

# Find and replace the center weight according to the first part of the formula
h_rrc[int(num_weights/2)] = 1/Ts*(1+alpha*(4/np.pi - 1))

# Normalize the weights
h_rrc = h_rrc/np.max(h_rrc)

# Plot filter impulse response
plt.plot(h_rrc)
plt.title('Raised Root Cosine Impulse Response')
plt.xlabel('Time samples, t')
plt.ylabel('Filter response, h(t)')





# Generate pulse vectors
pulse1 = np.zeros(21,)
pulse2 = np.zeros(21,)
pulse3 = np.zeros(21,)
pulse1[5] = 1
pulse2[10] = 1
pulse3[15] = 1

# Pulse shape each symbol separately 
symbol1_rrc = np.convolve(pulse1,h_rrc).real
symbol2_rrc = np.convolve(pulse2,h_rrc).real
symbol3_rrc = np.convolve(pulse3,h_rrc).real

# Pulse shape with matched filter
symbol1_matched = np.convolve(symbol1_rrc,h_rrc).real[20:-20]
symbol2_matched = np.convolve(symbol2_rrc,h_rrc).real[20:-20]
symbol3_matched = np.convolve(symbol3_rrc,h_rrc).real[20:-20]

# Plot them all
fig, ax = plt.subplots(1,2, figsize=(12,4))

# Only RRC filtered pulses
ax[0].plot(symbol1_rrc)
ax[0].plot(symbol2_rrc)
ax[0].plot(symbol3_rrc)
ax[0].plot([15,20,25,30,35,40,45], [0,0,0,0,0,0,0], 'x')
ax[0].set_title('RRC Pulse Shaped Symbols')
ax[0].set_ylabel('Magnitude')
ax[0].set_xlabel('Samples')
ax[0].legend(('Symbol 1', 'Symbol 2', 'Symbol 3', 'Zero Crossings'), loc='center left')

# Twice RRC filtered pulses, demonstrating matched filtering
ax[1].plot(symbol1_matched)
ax[1].plot(symbol2_matched)
ax[1].plot(symbol3_matched)
ax[1].plot([15,20,25,30,35,40,45], [0,0,0,0,0,0,0], 'x')
ax[1].set_title('After Matched Filtering')
ax[1].set_ylabel('Magnitude')
ax[1].set_xlabel('Samples')
ax[1].legend(('Symbol 1', 'Symbol 2', 'Symbol 3', 'Zero Crossings'), loc='center left')
plt.tight_layout()






