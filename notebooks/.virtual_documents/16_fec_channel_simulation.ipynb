





import numpy as np
import math
import strath_sdfec.helper_functions as hf

%store -r tx_enc_buf rx_bits

if 'rx_bits' not in locals():
    print('No stored data found, importing from file..')
    tx_enc_buf = np.loadtxt('data/docsis_init_ranging_tx.txt')
    rx_bits = np.loadtxt('data/docsis_init_ranging_rx.txt')
    
hf.plot_samples('Encoded Serial Buffer',
                [range(len(rx_bits))],
                [rx_bits])





def symbol_map(serial_data):
    mod_I = np.empty(0)
    mod_Q = np.empty(0)
    
    # Iterate through serial bits in increments of 4
    for i in range(0, len(serial_data), 4):
        symbol = serial_data[i : i+4]    # Group 4 bits

        b3b2 = symbol[0:2]    # MSBs
        b1b0 = symbol[2:4]    # LSBs

        # Real amplitude
        if np.array_equal(b3b2,[0,0]):
            I = -3
        elif np.array_equal(b3b2,[0,1]):
            I = -1
        elif np.array_equal(b3b2,[1,1]):
            I = 1
        elif np.array_equal(b3b2,[1,0]):
            I = 3

        # Imaginary amplitude
        if np.array_equal(b1b0,[0,0]):
            Q = 3
        elif np.array_equal(b1b0,[0,1]):
            Q = 1
        elif np.array_equal(b1b0,[1,1]):
            Q = -1
        elif np.array_equal(b1b0,[1,0]):
            Q = -3

        mod_I = np.append(mod_I, I)
        mod_Q = np.append(mod_Q, Q)
        
    signal = mod_I + 1j*mod_Q   
    return signal





signal = symbol_map(rx_bits)

hf.plot_samples('Encoded Signal',
                [range(len(signal)),range(len(signal))],
                [np.real(signal),np.imag(signal)])

hf.plot_constellation(signal)





SNR = 15

snr_ratio = 10**(SNR/10)
var_signal = np.var(signal)
var_noise = var_signal / snr_ratio

print('Desired SNR: %d dB' % SNR)
print('Signal Variance:', var_signal)
print('Noise Variance:' ,var_noise)
print('SNR (ratio):', var_signal/var_noise)





std_noise = math.sqrt(var_noise/2)     # Standard deviation of 1-D noise signal
mean_noise = 0
len_noise = len(signal)

noise_I = np.random.normal(mean_noise,std_noise,len_noise)
noise_Q = np.random.normal(mean_noise,std_noise,len_noise)

noise = noise_I + 1j*noise_Q





print('Expected Noise Variance:',var_noise)
print('Measured Noise Variance:',np.var(noise))





hf.plot_samples('Noise Signal',
                [range(len(noise_I)),range(len(noise_Q))],
                [noise_I,noise_Q])





hf.plot_hist('',np.concatenate((noise_I,noise_Q)),std_noise,b=30)





signal_with_noise = signal + noise

hf.plot_samples('Encoded Noisy Signal',
                [range(len(signal_with_noise)),range(len(signal_with_noise))],
                [np.real(signal_with_noise),np.imag(signal_with_noise)])

hf.plot_constellation(signal_with_noise)





power_signal = np.var(signal)
power_noise = np.mean(np.abs(signal - signal_with_noise)**2)
snr_db = 10*np.log10(power_signal/ power_noise)
print('Desired SNR: ', SNR)
print('Measured SNR: ', snr_db)





llrs = []
for y in signal_with_noise:
    # Bit 3
    if y.real < -2:
        b3 = 2*(y.real+1)
    elif y.real >= -2 and y.real < 2:
        b3 = y.real
    elif y.real > 2:
        b3 = 2*(y.real-1)
        
    # Bit 2
    b2 = -abs(y.real)+2
    
    # Bit 1
    if y.imag < -2:
        b1 = -2*(y.imag+1)
    elif y.imag >= -2 and y.imag < 2:
        b1 = -y.imag
    elif y.imag > 2:
        b1 = -2*(y.imag-1) 
        
    # Bit 0
    b0 = -abs(y.imag)+2
    
    llrs.append(b3)
    llrs.append(b2)
    llrs.append(b1)
    llrs.append(b0)





hf.plot_samples('Comparing LLR Values to Actual Bits',
                [range(80),range(80)],
                [llrs[0:80], rx_bits[0:80]])





%store llrs






