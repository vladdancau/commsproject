











# Import necessary libraries 
import numpy as np
import matplotlib.pyplot as plt
import math
from scipy import signal

# Import helper function
from rfsoc_book.helper_functions import symbol_gen, psd, \
frequency_plot, scatterplot, calculate_evm, awgn











fs = 20e6 # Sampling rate 
N = 64 # No. of sub-carriers 





#L-LTF sequence
LTFseq = np.array([0,0,0,0,0,0,1,1,-1,\
                  -1,1,1,-1,1,-1,1,1,1,\
                  1,1,1,-1,-1,1,1,-1,1,\
                  -1,1,1,1,1,0,1,-1,-1,\
                  1,1,-1,1,-1,1,-1,-1,\
                  -1,-1,-1,1,1,-1,-1,1,\
                  -1,1,-1,1,1,1,1,0,0,0,\
                  0,0])





LTFsymb = np.fft.ifft(np.fft.fftshift(LTFseq),N)








# Extract 32 sample CP 
LTFcp = LTFsymb[32:64]

# Concatenate to form L-LTF
LLTF = np.concatenate((LTFcp, LTFsymb, LTFsymb))











n_ofdm = 1000 # No. of OFDM symbols
n_data = 52 # No. of data sub-carriers
nsym = n_ofdm * n_data # No. of data symbols
mod_scheme = 'QPSK' # Modulation scheme

# Generate data symbols
data = symbol_gen(nsym,mod_scheme)





# Indices for data sub-carriers 
ind_1 = np.arange(start=6, stop=32)
ind_2 = np.arange(start=33, stop=59)
index = np.concatenate((ind_1, ind_2), axis=0)

# Initialisation of array to hold OFDM symbols 
ofdm_data = np.zeros(n_ofdm*N,np.complex64)
j = 0 
k = 0 

for i in range(n_ofdm):
    
    # Initialise array to hold data and null sub-carriers
    # (all null to begin with)
    sc_array = np.zeros(N,np.complex64)
    
    # Map data symbols to correct sub-carrier positions
    sc_array[index] = data[j:j+n_data] 
    
    # Perform IFFT modulation
    ofdm_data[k:k+N] = np.fft.ifft(np.fft.fftshift(sc_array),N) 
    
    # Increment
    j = j + n_data
    k = k + N





# Define function to add CP 
def add_cp(ofdm_symb,N,cp_len):
    
    #Extract CP
    cp = ofdm_symb[N-cp_len:N:1]
    
    # Concatenate CP and symbol 
    ofdm_symb_cp = np.concatenate((cp,ofdm_symb))
    
    return ofdm_symb_cp

cp_len = N // 4 # CP length is 1/4 of symbol period

# Add CP to each of the ofdm symbols 
ofdm_data_cp = np.zeros(n_ofdm*(N+cp_len),np.complex64)
j = 0
k = 0 

for i in range(n_ofdm):    
    ofdm_data_cp[k:(k+N+cp_len)] = add_cp(ofdm_data[j:j+N],N,cp_len)
    j = j + N  
    k = k + N + cp_len 





# Concatenate L-LTF and data payload to form final transmit signal 
txSig = np.concatenate((LLTF,ofdm_data_cp))














# Filter coefficients
ntap = 4
h = np.random.randn(ntap) + np.random.randn(ntap)*1j

# Appy channel filter 
txSig_filt = np.convolve(txSig, h)





SNR = 25 # Desired SNR (dB) 
rxSig = awgn(txSig_filt,SNR)











# Extract received L-LTF OFDM symbols 
rx_LLTF_symb_1 = rxSig[32:96]
rx_LLTF_symb_2 = rxSig[96:160]





LLTF_symb_demod_1 = np.fft.fftshift(np.fft.fft(rx_LLTF_symb_1,N))
LLTF_symb_demod_2 = np.fft.fftshift(np.fft.fft(rx_LLTF_symb_2,N))





# Function to demodulate OFDM 
def ofdm_demod(ofdm_rx,N,cp_len):
    
    # Remove CP 
    ofdm_u = ofdm_rx[cp_len:(N+cp_len)]
    
    # Perform FFT 
    data = np.fft.fftshift(np.fft.fft(ofdm_u,N))
    
    return data

# Array to hold recovered  data symbols  
data_rx = np.zeros(n_ofdm*n_data,np.complex64)
j = 0
k = 0 

# Extract data payload (after end of L-LTF)
L = len(rxSig)
rxPayload = rxSig[160:L:1]

# Demodulate OFDM symbols in payload 
for i in range(n_ofdm):
    
    # Demodulate OFDM symbols 
    rx_demod = ofdm_demod(rxPayload[k:(k+N+cp_len)],N,cp_len)
    
    # Extract data symbols 
    data_rx[j:j+n_data] = rx_demod[index] 
    
    j = j + n_data
    k = k + N + cp_len 




















# Extract data sub-carriers
LLTF_data_1 = LLTF_symb_demod_1[index]
LLTF_data_2 = LLTF_symb_demod_2[index] 


# Get channel estimates 
h_1 = LLTF_data_1 / LTFseq[index]
h_2 = LLTF_data_2 / LTFseq[index]





# Average h_1 and h_2 to get final estimate 
h_final = (h_1 + h_2) / 2





# Calculate magnitude and phase response of channel 
chan = np.fft.fftshift(np.fft.fft(h,N))
chan_data = chan[index]

# Plot actual and estimated magnitude response
plt.plot(abs(chan_data),'b')
plt.plot(abs(h_final),'--r')
plt.title('Actual and Estimated Magnitude Response')
plt.xlabel('Sub-carrier index (data)')
plt.ylabel('Magnitude (Linear)')
plt.legend(('Actual','Estimated'))

plt.figure(2)

# Plot actual and estimated phase response
plt.plot(np.angle(chan_data),'b')
plt.plot(np.angle(h_final),'--r')
plt.title('Actual and Estimated Phase Response')
plt.xlabel('Sub-carrier index (data)')
plt.ylabel('Angle (radians)')
plt.legend(('Actual','Estimated'))



































# Plot constellation 
scatterplot(data_rx.real,data_rx.imag,ax=None)





# Equalise data symbols 
data_eq_zf = np.zeros(n_ofdm*n_data,np.complex64)
j = 0

for i in range (n_ofdm):
    
    data_eq_zf[j:j+n_data] = data_rx[j:j+n_data] * (np.conj(h_final)/abs(h_final)**2)
    
    j = j + n_data


# Plot constellation 
scatterplot(data_eq_zf.real,data_eq_zf.imag,ax=None)









