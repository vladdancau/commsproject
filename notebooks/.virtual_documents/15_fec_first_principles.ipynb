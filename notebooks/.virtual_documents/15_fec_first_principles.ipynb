




















import numpy as np
import matplotlib.pyplot as plt
import helper_functions as hf

with open('./data/docsis_init_ranging_parity.csv') as f:
    H = np.loadtxt(f, delimiter=",")
    
n = H.shape[1] # block size (parity check columns)
k = H.shape[0] # information bits (parity check rows)
p = 16         # sub-matrix size

print('Block Size (bits):',n)
print('Information Bits:',k)
print('Sub-Matrix Size:',p)





#hf.plot_parity_check_matrix('DOCSIS Init. Ranging Parity Check Matrix',H,p)
plt.matshow(H)





print('docsis_init_ranging:')
print('  n:', n)
print('  k:', k)
print('  p:', p)
print('  sm_array:')
for row_i in range(k)[::p]:
    for col_i in range(n)[::p]:
        sm_row = row_i/p
        sm_col = col_i/p
        sm_row_0 = H[row_i,col_i:col_i+p]
        shift = np.where(sm_row_0==1)
        if shift[0].size > 0: # If there is a sub matrix
            print('  - {row: %d, col: %d, shift: %d}' % (sm_row, sm_col, shift[0][0]))






