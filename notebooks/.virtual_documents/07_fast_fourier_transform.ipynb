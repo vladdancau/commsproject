





import numpy as np

def dft(x):
    N = np.size(x)
    X = np.zeros(N, dtype=np.complex64)
    n = np.arange(0, N)
    for k in range(N):
        X[k] = np.sum(x*np.exp(-2j*np.pi*k*n/N))
    return X





import matplotlib.pyplot as plt

def stem_plot(x, y, title, xlabel, ylabel, xticks=None, yticks=None, figsize=(6, 3), subplot=(1, 1), bottom=None, style=None):
    fig = plt.figure(figsize=figsize)
    for idx, value in enumerate(y):
        axes = fig.add_subplot(subplot[0], subplot[1], idx+1)
        if bottom is not None:
            axes.stem(x[idx], y[idx], use_line_collection = True, bottom=bottom[idx])
        else:
            axes.stem(x[idx], y[idx], use_line_collection = True)
        if style is not None:
            if style[idx] == 'dashed':
                axes.plot(x[idx], y[idx], linestyle='dashed')
        axes.grid(True, which='major')
        if xticks is not None:
            axes.set_xticks(xticks[idx])
        if yticks is not None:
            axes.set_yticks(yticks[idx])
        axes.set_title(title[idx])
        axes.set_xlabel(xlabel[idx])
        axes.set_ylabel(ylabel[idx])
        plt.box(False)





fs = 48e3 # Sampling frequency
ts = 1/fs # Regular sampling period
N = 8    # Number of samples
k = n = np.arange(N) # Sample points


a = 0.5*np.cos(2*np.pi*6e3*n*ts + np.pi/4)
b = np.cos(2*np.pi*12e3*n*ts)

x = np.around(a + b, 4)





stem_plot(x      = [n],
          y      = [x],
          figsize= (6, 3),
          title  = ["Discrete Waveform $x(n)$"], 
          style  = ["dashed"], 
          xlabel = ["Samples (n)"], 
          ylabel = ["Amplitude"])





Wk = np.round(np.exp(-2j*np.pi*k/N), 2)

all(Wk[0:N//2] == -Wk[N//2:N])





xeven = x[0::2]
xodd = x[1::2]

W8k = np.exp(-2j*np.pi*k[0:N//2]/N)





Xfft = np.zeros(N, dtype=np.complex64)

Xeven = dft(xeven)
Xodd = dft(xodd)

temp = W8k*Xodd
Xfft[0:N//2] = Xeven + temp
Xfft[N//2:N] = Xeven - temp





Xfftm = np.abs(Xfft)

stem_plot(x      = [n[0:N//2+1]*fs/N],
          y      = [Xfftm[0:N//2+1]],
          xticks = [n[0:N//2+1]*fs/N],
          figsize= (6, 3),
          title  = ["Magnitude Spectra of $X(k)$"], 
          xlabel = ["Frequency (Hz)"], 
          ylabel = ["Amplitude"])





X = dft(x)
all(np.round(Xfft, 2) == np.round(X, 2))








xeven_0 = x[0::4]
xodd_0  = x[2::4]
xeven_1 = x[1::4]
xodd_1  = x[3::4]

W8k = np.exp(-2j*np.pi*k[0:N//2]/N)
W4k = np.exp(-2j*np.pi*k[0:N//4]/(N//2))





# Initialise registers
Xfft = np.zeros(N, dtype=np.complex64)
Xeven = np.zeros(N//2, dtype=np.complex64)
Xodd = np.zeros(N//2, dtype=np.complex64)

# Apply four 2-point DFTs
Xeven_0 = dft(xeven_0)
Xodd_0 = dft(xodd_0)
Xeven_1 = dft(xeven_1)
Xodd_1 = dft(xodd_1)

# Get Xeven
temp = W4k*Xodd_0
Xeven[0:N//4] = Xeven_0 + temp
Xeven[N//4:N//2] = Xeven_0 - temp

# Get Xodd
temp = W4k*Xodd_1
Xodd[0:N//4] = Xeven_1 + temp
Xodd[N//4:N//2] = Xeven_1 - temp

# Obtain final output
temp = W8k*Xodd
Xfft[0:N//2] = Xeven + temp
Xfft[N//2:N] = Xeven - temp





all(np.round(Xfft, 2) == np.round(X, 2))








def fft(x):
    N = np.size(x) # Must be a power of 2
    if N == 1:
        return x
    else:
        Xeven = fft(x[0::2]) # Recursion
        Xodd = fft(x[1::2])  # Recursion
        k = np.arange(N)
        X = np.zeros(N, dtype=np.complex64)
        Wk = np.exp(-2j*np.pi*k[0:N//2]/(N))
        temp = Wk * Xodd
        X[0:N//2] = Xeven + temp
        X[N//2:N] = Xeven - temp
        return X





X = fft(x)
Xnorm = np.abs(X)/N

stem_plot(x      = [n[0:N//2+1]*fs/N/1e3],
          y      = [Xnorm[0:N//2+1]],
          xticks = [n[0:N//2+1]*fs/N/1e3],
          figsize= (6, 3),
          title  = ["Normalise Magnitude Spectra of $X(k)$"], 
          xlabel = ["Frequency (kHz)"], 
          ylabel = ["Amplitude"])





all(np.round(fft(x), 2) == np.round(dft(x), 2))





N = 2048    # Number of samples
n = np.arange(N) # Sample points

a = 0.5*np.cos(2*np.pi*6e3*n*ts + np.pi/4)
b = np.cos(2*np.pi*12e3*n*ts)

x = np.around(a + b, 4)





%%time
Xdft = dft(x)





%%time
Xfft = fft(x)





all(np.round(Xfft, 2) == np.round(Xdft, 2))





X = np.fft.fft(x)
Xnorm = np.abs(X)/N





stem_plot(x      = [n[0:N//2+1:128]*fs/N/1e3],
          y      = [Xnorm[0:N//2+1:128]],
          xticks = [n[0:N//2+1:128]*fs/N/1e3],
          figsize= (6, 3),
          title  = ["Normalise Magnitude Spectra of $X(k)$"], 
          xlabel = ["Frequency (kHz)"], 
          ylabel = ["Amplitude"])








# Set basic params
fs = 1024 # sample rate
f1 = 60 # frequency of first signal
f2 = 120 # frequency of 2nd signal
f3 = 250 # frequency of 3rd signal
N  = 512 # fft size

L = N*256 # we want 256 frames of 512 FFT windows

# create a sampled sinusoid and corresponding frequencies for plotting
sine_1 = np.sin(2*np.pi*f1*np.arange(L)/fs)
sine_2 = 0.5*np.sin(2*np.pi*f2*np.arange(L)/fs)
sine_3 = 0.7*np.sin(2*np.pi*f3*np.arange(L)/fs)

sum_of_tones = sine_1 + sine_2 + sine_3





sum_of_tones = sum_of_tones.reshape(-1,N)
sum_of_tones.shape





# Compute FFT and calculate the PSD
X = np.fft.fft(sum_of_tones*np.hamming(N), N)[:,:int(N/2)]
Xlog = 10*np.log10(2*np.abs(X)**2/N)

# Get corresponding frequencies, take only positive spectrum
freqs = np.fft.fftfreq(N,1/fs)[:int(N/2)]





fig = plt.figure(figsize=(10,5))
ax = plt.axes()
im = plt.pcolormesh(freqs, np.arange(int(L/N))/fs, Xlog, vmin=-50, shading='gouraud')
ax.set_xlabel('Frequency, Hz')
ax.set_ylabel('Time, s')
ax.set_title('Waterfall Plot')
fig.colorbar(im)
plt.show()





# Set basic params
fs = 1024 # sample rate
N = 512 # fft size
L = N*256 # we want 256 frames of 512 FFT windows

# Frequency increases over time
f = 0.0019*np.arange(L)

# Create a sampled sinusoid and corresponding frequencies for plotting
chirp = np.sin(2*np.pi*f*np.arange(L)/fs)

# Plot the chirp signal
stem_plot(x      = [np.arange(0, 4096, 10)],
          y      = [chirp[:4096:10]],
          xticks = [np.arange(0, 4096, 1000)],
          figsize= (14, 3),
          title  = ["Chirp Signal"], 
          xlabel = ["Samples (n)"], 
          ylabel = ["Amplitude"])





# Slice it up into 512-sized chunks
chirp = chirp.reshape(-1,N)
chirp.shape

# Compute FFT and calculate the PSD
X = np.fft.fft(chirp*np.hamming(N), N)[:,:int(N/2)]
Xlog = 10*np.log10(2*np.abs(X)**2/N/fs)

# Get corresponding frequencies, take only positive spectrum
freqs = np.fft.fftfreq(N,1/fs)[:int(N/2)]

fig = plt.figure(figsize=(10,5))
ax = plt.axes()
im = plt.pcolormesh(freqs, np.arange(int(L/N))/fs, Xlog, vmin=-50, shading='gouraud')
ax.set_xlabel('Frequency, Hz')
ax.set_ylabel('Time, s')
ax.set_title('Waterfall Plot')
fig.colorbar(im)
plt.show()






