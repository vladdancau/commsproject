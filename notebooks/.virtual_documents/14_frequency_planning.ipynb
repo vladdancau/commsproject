








a1 = 10
a2 = -2.2
a3 = 3





import numpy as np

x = np.arange(-1,1,0.001)
y1 = a1*x
y2 = a1*x + a2*x**2 + a3*x**3





import matplotlib.pyplot as plt

plt.figure(figsize=(10,5))

plt.plot(x, y1, label='Linear')
plt.plot(x, y2, label='Non-Linear')

plt.xlabel('Input signal amplitude')
plt.ylabel('Output signal amplitude')
plt.xlim(-1,1)
plt.ylim(-15,15)
plt.legend()
plt.grid(True)

plt.show()





fs = 10e3 # sample rate
T = np.arange(0,1,1/fs) 

Nfft = 1024 # number of FFT points.
fin = 100*(fs/Nfft) # input frequency

sin_x = np.sin(2*np.pi*fin*T)

print("fs: {:.2f} Hz".format(fs))
print("f_in: {:.2f} Hz".format(fin))





sin_y_lin = a1*sin_x
sin_y_nonlin = a1*sin_x + a2*sin_x**2 + a3*sin_x**3





plt.figure(figsize=(10,5))

plt.subplot(3,1,1)
plt.plot(T, sin_x, label='Input Sine Wave', color='tab:blue')
plt.xlim(0,0.01)
plt.ylim(-15,15)
plt.xlabel('Time (s)')
plt.ylabel('Amplitude')
plt.legend(loc='upper right')
plt.grid(True)

plt.subplot(3,1,2)
plt.plot(T, sin_y_lin, label='Output (Linear)', color='tab:orange')
plt.xlim(0,0.01)
plt.ylim(-15,15)
plt.xlabel('Time (s)')
plt.ylabel('Amplitude')
plt.legend(loc='upper right')
plt.grid(True)

plt.subplot(3,1,3)
plt.plot(T, sin_y_nonlin, label='Output (Non-Linear)', color='tab:red')
plt.xlim(0,0.01)
plt.ylim(-15,15)
plt.xlabel('Time (s)')
plt.ylabel('Amplitude')
plt.legend(loc='upper right')
plt.grid(True)

plt.tight_layout()
plt.show()





F_FFT = np.linspace(-fs/2, fs/2, Nfft, endpoint=False)

Y_nonlin = abs(np.fft.fftshift(np.fft.fft(sin_y_nonlin, Nfft)))
Y_nonlin_norm = Y_nonlin/Y_nonlin.max()
Y_lin =  abs(np.fft.fftshift(np.fft.fft(sin_y_lin, Nfft)))
Y_lin_norm = Y_lin/Y_lin.max()

plt.figure(figsize=(10,5))

plt.subplot(211)
plt.plot(F_FFT, 20*np.log10(Y_lin_norm), label='Linear', color='tab:blue')
plt.xlim(0,fs/2)
plt.ylabel("Magnitude (dBc)")
plt.xlabel("Frequency (Hz)")
plt.grid(True)
plt.legend(loc='upper right')

plt.subplot(212)
plt.plot(F_FFT, 20*np.log10(Y_nonlin_norm), label='Non-Linear', color='tab:orange')
plt.xlim(0,fs/2)
plt.ylabel("Magnitude (dBc)")
plt.xlabel("Frequency (Hz)")
plt.grid(True)
plt.legend(loc='upper right')

plt.tight_layout()
plt.show()





hd_ord = [2,3]

hd = [fin*n for n in hd_ord]
print("f_in: {:.2f} Hz".format(fin))
print("Harmonics: {} (Hz)".format(hd))

plt.figure(figsize=(10,5))

plt.vlines(fin, ymin=0, ymax=1, label='Input Signal', color='tab:blue')
plt.vlines(hd, ymin=0, ymax=0.5, label='Harmonics', color='tab:orange')
plt.vlines(fs/2, ymin=0, ymax=1.1, label='Nyquist Rate', color='black', linestyles='dashed')
plt.vlines(fs, ymin=0, ymax=1.1, label='Sample Rate', color='gray', linestyles='dashed')

plt.ylim(0,1.1)
plt.xlabel("Frequency (Hz)")
plt.ylabel("Magnitude (normalised)")
plt.legend()
plt.grid(True)

plt.show()








fs_cont = fs*10
t_cont = np.arange(0,1,1/fs_cont)

sin_y_cont = np.sin(2*np.pi*fin*t_cont)





M = 2 # interleaving factor
fs_sub_adc = fs/M # sub ADC sample rate





adc1_t_offset = round((fs_cont/fs_sub_adc)*((1-1)/M))
adc2_t_offset = round((fs_cont/fs_sub_adc)*((2-1)/M))  

t_sub_adc1 = np.arange(adc1_t_offset,len(sin_y_cont),fs_cont/fs_sub_adc, dtype=np.int16)
t_sub_adc2 = np.arange(adc2_t_offset,len(sin_y_cont),fs_cont/fs_sub_adc, dtype=np.int16)

print("ADC1 Sample Points: {}".format(t_sub_adc1[0:5]))
print("ADC2 Sample Points: {}".format(t_sub_adc2[0:5]))





dc_offset = 0.2
gain_offset = 0.4
phase_offset = 0.3





sub_adc1_out = sin_y_cont[t_sub_adc1]
sub_adc2_out = sin_y_cont[t_sub_adc2 + int(np.round(phase_offset * adc2_t_offset))] * (1-gain_offset) + dc_offset





adc_out = [None]*(len(sub_adc1_out) + len(sub_adc2_out))  
adc_out[::M] = sub_adc1_out
adc_out[1::M] = sub_adc2_out





ADC_OUT = abs(np.fft.fftshift(np.fft.fft(adc_out, Nfft)))
ADC_OUT_NORM = ADC_OUT/ADC_OUT.max()

plt.figure(figsize=(10,5))
plt.plot(F_FFT,20*np.log10(ADC_OUT_NORM))

plt.xlim(-10,fs/2 + 10)
plt.grid(True)
plt.xlabel("Frequency (Hz)")
plt.ylabel("Magnitude (dBc)")

plt.show()





def interleave_adc(M, fs_cont, fs_sub_adc, sig, dc_offset, gain_offset, phase_offset):
    
    if (len(dc_offset) and len(gain_offset) and len(phase_offset)) != M:
        raise RuntimeError("Offset values must be a list with length equal to the interleaving factor.")

    adc_t_offset = round(fs_cont/(fs_sub_adc*M))    
    sub_adc = [[]]*M 
    adc_len = 0
    
    for j in range(M):
        
        t = np.arange(j*adc_t_offset,len(sig),fs_cont/fs_sub_adc)

        for n in t:
            sub_adc[j] = sub_adc[j] + [sig[int(n) + (int(phase_offset[j] * adc_t_offset))] * (1-gain_offset[j]) + dc_offset[j]]
        adc_len += len(sub_adc[j])

    adc = [None]*adc_len
    
    for i in range(M):
        adc[i::M] = sub_adc[i]

    return np.array(adc)





M = 4 # change interleaving factor
fs_sub_adc = fs/M # recalculate sub-ADC sample rate





ois = [k/M * fs for k in range(M)]
print("fin: {:.2f} Hz".format(fin))
print("OIS: {} (Hz)".format(ois))

plt.figure(figsize=(10,5))

plt.vlines(fs/2, ymin=0, ymax=1.1, label='Nyquist Rate', color='black', linestyles='dashed')
plt.vlines(fs, ymin=0, ymax=1.1, label='Sample Rate', color='black', linestyles='dashdot')
plt.vlines(fin, ymin=0, ymax=1, label='Input Signal', color='tab:blue')
plt.vlines(ois, ymin=0, ymax=0.4, label='OIS', color='tab:orange')

plt.xlim(-100,fs+100)
plt.ylim(0,1.1)
plt.xlabel("Frequency (Hz)")
plt.legend()
plt.grid(True)

plt.show()





gtis_p = [k*fs/M + fin for k in range(1,M)]
gtis_n = [k*fs/M - fin for k in range(1,M)]

gtis = gtis_p + gtis_n
print("fin: {:.2f} Hz".format(fin))
print("GTIS: {} (Hz)".format(gtis))

plt.figure(figsize=(10,5))

plt.vlines(fs/2, ymin=0, ymax=1.1, label='Nyquist Rate', color='black', linestyles='dashed')
plt.vlines(fs, ymin=0, ymax=1.1, label='Sample Rate', color='black', linestyles='dashdot')
plt.vlines(fin, ymin=0, ymax=1, label='Input Signal', color='tab:blue')
plt.vlines(gtis, ymin=0, ymax=0.3, label='GTIS', color='tab:orange')

plt.xlim(-100,fs+100)
plt.ylim(0,1.1)
plt.xlabel("Frequency (Hz)")
plt.legend(loc='upper right')
plt.grid(True)

plt.show()





hd2_il_p = [spur + hd[0] for spur in ois]
hd2_il_n = [spur - hd[0] for spur in ois]

hd3_il_p = [spur + hd[1] for spur in ois]
hd3_il_n = [spur - hd[1] for spur in ois]

hd_il = hd2_il_p + hd2_il_n + hd3_il_p + hd3_il_n
hd_il = [abs(spur) for spur in hd_il]

print("fin: {:.2f} Hz".format(fin))
print("HD+IL: {} (Hz)".format(hd_il))

plt.figure(figsize=(10,5))

plt.vlines(fs/2, ymin=0, ymax=1.1, label='Nyquist Rate', color='black', linestyles='dashed')
plt.vlines(fs, ymin=0, ymax=1.1, label='Sample Rate', color='black', linestyles='dashdot')
plt.vlines(fin, ymin=0, ymax=1, label='Input Signal', color='tab:blue')
plt.vlines(hd_il, ymin=0, ymax=0.2, label='Harmonic + IL Spurs', color='tab:orange')

plt.xlim(-100,fs+100)
plt.ylim(0,1.1)
plt.xlabel("Frequency (Hz)")
plt.legend(loc='upper right')
plt.grid(True)

plt.show()





def alias(f, fs):
    f = abs(f) # any negative frequencies will also appear as positive frequencies
    f_alias = f % fs
    if f_alias > fs/2:
        f_alias = fs - f_alias
    return f_alias





hd_alias = [alias(f, fs) for f in hd]
ois_alias = [alias(f, fs) for f in ois]
gtis_alias = [alias(f, fs) for f in gtis]
hd_il_alias = [alias(f, fs) for f in hd_il]

hd_alias = list(set(hd_alias))
ois_alias = list(set(ois_alias))
gtis_alias = list(set(gtis_alias))
hd_il_alias = list(set(hd_il_alias))

print("fin: {:.2f} Hz".format(fin))
print("HD Alias: {} (Hz)".format(hd_alias))
print("OIS Alias: {} (Hz)".format(ois_alias))
print("GTIS Alias: {} (Hz)".format(gtis_alias))
print("HD+IL Alias: {} (Hz)".format(hd_il_alias))

plt.figure(figsize=(10,5))

plt.vlines(fs/2, ymin=0, ymax=1.1, label='Nyquist Rate', color='black', linestyles='dashed')
plt.vlines(fs, ymin=0, ymax=1.1, label='Sample Rate', color='black', linestyles='dashdot')

plt.vlines(fin, ymin=0, ymax=1, label='Input Signal', color='tab:blue')
plt.vlines(hd_alias, ymin=0, ymax=0.5, label='Harmonics', color='tab:orange')
plt.vlines(ois_alias, ymin=0, ymax=0.4, label='OIS', color='tab:green')
plt.vlines(gtis_alias, ymin=0, ymax=0.3, label='GTIS', color='tab:cyan')
plt.vlines(hd_il_alias, ymin=0, ymax=0.2, label='Harmonic + IL Spurs', color='tab:pink')

plt.xlim(-100,fs+100)
plt.ylim(0,1.1)
plt.xlabel("Frequency (Hz)")
plt.legend(loc='upper right')
plt.grid(True)

plt.show()








dc_offset = [0, 0.01, 0.05, 0.02]
gain_offset = [0, 0.01, 0.02, 0.03]
phase_offset = [0, 0.1, 0.2, 0.01]





adc_out = interleave_adc(M, fs_cont, fs_sub_adc, sin_y_cont, dc_offset, gain_offset, phase_offset)





a1 = 1
a2 = 0.05
a3 = 0.02





adc_out_nonlin = a1*adc_out + a2*adc_out**2 + a3*adc_out**3





noise = np.random.normal(0,1,len(adc_out_nonlin))
adc_out_nonlin += noise*0.0001





ADC_OUT = abs(np.fft.fftshift(np.fft.fft(adc_out_nonlin, Nfft)))
ADC_OUT_NORM = ADC_OUT/ADC_OUT.max()

alpha = 0.8

plt.figure(figsize=(10,5))

plt.vlines(ois_alias, ymin=-300, ymax=0, label='OIS', color='tab:green', alpha=alpha, linestyles='dashed')
plt.vlines(gtis_alias, ymin=-300, ymax=0, label='GTIS', color='tab:cyan', alpha=alpha, linestyles='dashed')
plt.vlines(hd_il_alias, ymin=-300, ymax=0, label='Harmonic + IL Spurs', color='tab:pink', alpha=alpha, linestyles='dashed')
plt.vlines(hd_alias, ymin=-300, ymax=0, label='Harmonics', color='tab:orange', alpha=alpha, linestyles='dashed')
plt.plot(F_FFT,20*np.log10(ADC_OUT_NORM), color='tab:blue', label='ADC Output')

plt.xlim(-10,fs/2 + 10)
plt.ylim(-320,10)
plt.ylim(-115,10)
plt.grid(True)
plt.xlabel("Frequency (Hz)")
plt.ylabel("Magnitude (dBc)")
plt.legend(loc="lower right")

plt.show()








gtis_alias.sort()
hd_il_alias.sort()

print("f_in: {} (Hz)".format(fin))
print("HD_IL: {} (Hz)".format(hd_il_alias))
print("GTIS: {} (Hz)".format(gtis_alias))





from scipy.signal import firwin2

num_taps = 51
bpf = firwin2(num_taps, [0,fin-400,fin,fin+400,fs/2], [0,0,1,0,0], fs=fs, window='blackman')





BPF = np.fft.fftshift(np.fft.fft(bpf, Nfft))

plt.figure(figsize=(10,5))

plt.plot(F_FFT,20*np.log10(abs(BPF)))

plt.xlim(-10,fs/2 + 10)
plt.ylim(-150,10)
plt.grid(True)
plt.xlabel("Frequency (Hz)")
plt.ylabel("Magnitude (dB)")

plt.show()





adc_out_filt = np.convolve(adc_out_nonlin, bpf, 'same')





ADC_OUT_FILT = abs(np.fft.fftshift(np.fft.fft(adc_out_filt, Nfft)))
ADC_OUT_FILT_NORM = ADC_OUT_FILT/ADC_OUT_FILT.max()

plt.figure(figsize=(10,5))

plt.plot(F_FFT,20*np.log10(ADC_OUT_NORM), color='tab:orange', label='Unfiltered ADC output')
plt.plot(F_FFT,20*np.log10(ADC_OUT_FILT_NORM), color='tab:blue', label='Filtered ADC output')

plt.xlim(-10,fs/2 + 10)
plt.ylim(-115,5)
plt.grid(True)
plt.xlabel("Frequency (Hz)")
plt.ylabel("Magnitude (dBc)")
plt.legend()

plt.show()









