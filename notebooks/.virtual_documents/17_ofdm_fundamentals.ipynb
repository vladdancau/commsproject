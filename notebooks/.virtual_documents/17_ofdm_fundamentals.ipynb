














# Import necessary libraries 
import numpy as np
import matplotlib.pyplot as plt
import math
from scipy import signal

# Import helper function
from helper_functions import symbol_gen, psd, frequency_plot, scatterplot





mod_scheme = '16-QAM' # Modulation scheme 
fs = 20e6 # Initial symbol rate





N = 64 # No. of sub-carriers 





R = fs/N # symbol rate of parallel data streams





T = 1/R # symbol period of parallel data streams








deltaf = R # Sub-carrier spacing 








n_ofdm = 500 # No. of OFDM symbols
nsym = n_ofdm * N # No. of data symbols 

# Generate data symbols
data_serial = symbol_gen(nsym,mod_scheme)





# Plot constellation 
scatterplot(data_serial.real,data_serial.imag,ax=None)





# Matrix to hold parallel low rate data streams
data_parallel = np.zeros((N,n_ofdm),np.complex64)  
j= 0

# Serial to Parallel converter
for i in range(n_ofdm):
    data_parallel[:,i] = data_serial[j:j+N]
    j = j + N





sc = np.zeros((N,N),np.complex64) # Matrix to hold sub-carriers 
k = np.arange(N) # Define sub-carrier indices i.e. [0,1....N-1]
n = k # Discrete time index  

# Generate sub-carriers  
for i in range(N):
    sc[i,:] = np.exp(1j*2*math.pi*k[i]*(deltaf/fs)*n)





# Modulate sub-carriers with data symbols   
sc_mod = np.zeros((N,n_ofdm*N),np.complex64)
j = 0

for i in range(n_ofdm):
    sc_mod[:,j:j+N] = sc * data_parallel[:,i][:, np.newaxis]
    j = j + N





# Extract two sub-carriers and plot together 
sc_1 = sc_mod[0,:] 
sc_2 = sc_mod[2,:]

# Estimate PSDs of sub-carriers 
fft_s = 512
wtype = 'Rectangle' 
overlap = 0
psd_est_1 = psd(sc_1,fft_s,wtype,overlap)
psd_est_2 = psd(sc_2,fft_s,wtype,overlap)

# Convert to dB
epsilon = 1e-9; # Add to avoid divide by zero errors
psd_db_1 = 10 * np.log10(psd_est_1+epsilon) 
psd_db_2 = 10 * np.log10(psd_est_2+epsilon)

# Frequency axis 
freqs = np.linspace(-fs/2,(fs/2 - (fs/fft_s)), fft_s) 

# Plot PSDs
fig=plt.figure(figsize=(5,4), dpi=100)
frequency_plot(freqs, np.fft.fftshift(psd_db_1), ax=None)
frequency_plot(freqs, np.fft.fftshift(psd_db_2), ax=None)








ofdm_data = np.sum(sc_mod,0,np.complex64)/N





# Define function to modulate using IFFT 
def ifft_mod(symbols,N):
    ofdm_data = np.fft.ifft(symbols,N)
    return ofdm_data

#  Generate OFDM symbols using IFFT modulation   
ofdm_data_ifft = np.zeros(n_ofdm*N,np.complex64)
j = 0

for i in range(n_ofdm):    
    ofdm_data_ifft[j:j+N] = ifft_mod(data_serial[j:j+N],N)
    j = j + N  


# Compare OFDM symbols generated using orthogonal modulation and IFFT respectively
plt.plot(ofdm_data[0:(2*N)].real,'b')
plt.plot(ofdm_data_ifft[0:(2*N)].real,'--r')
plt.title('Orthogonal Modulation vs. IFFT (I)')
plt.xlabel('n (sample index)')
plt.ylabel('Amplitude')
plt.legend(('Orthogonal Modulation','IFFT'))

plt.figure(2)

plt.plot(ofdm_data[0:(2*N)].imag,'b')
plt.plot(ofdm_data_ifft[0:(2*N)].imag,'--r')
plt.title('Orthogonal Modulation vs. IFFT(Q)')
plt.xlabel('n (sample index)')
plt.ylabel('Amplitude')
plt.legend(('Orthogonal Modulation','IFFT'))





mse = np.mean(abs(ofdm_data-ofdm_data_ifft)**2)
mse














# Sub-carrier at k = 1 or fs/N Hz
n = np.arange(64)
k = 1
sc = np.exp(1j*2*math.pi*k*n/N) 





# Extract In-Phase component
sc_real = sc.real

fig=plt.figure(figsize=(5,4), dpi=100)
plt.plot(sc_real,'b')
plt.title('In-Phase Component of k=1 sub-carrier')
plt.xlabel('n (sample index)')
plt.ylabel('Amplitude')











# Multipath channel  
h = np.array([0.9,0.3,0.05])
sc_filt = np.convolve(sc_real, h)





len(sc_filt)





fig=plt.figure(figsize=(5,4), dpi=100)
plt.plot(sc_filt,'r')
xvals = np.arange(66)
xvals = xvals[2:64]
plt.plot(xvals,sc_filt[2:64],'b')

plt.title('Filtered sub-carrier')
plt.xlabel('n (sample index)')
plt.ylabel('Amplitude')








# Extract CP samples 
cp = sc_real[60:64]

# Append to front of sub-carrier 
sc_cp = np.concatenate((cp, sc_real))

# Plot resulting waveform 
fig=plt.figure(figsize=(5,4), dpi=100)
plt.plot(sc_cp,'r')
xvals = np.arange(68)
xvals = xvals[4:68]
plt.plot(xvals,sc_cp[4:68],'b')

plt.title('Sub-carrier with CP')
plt.xlabel('n (sample index)')
plt.ylabel('Amplitude')





# Pass sub-carrier with CP through channel filter 
sc_filt_cp = np.convolve(sc_cp, h)





len(sc_filt_cp)





# Plot received waveform 
fig=plt.figure(figsize=(5,4), dpi=100)
plt.plot(sc_filt_cp,'r')
xvals = np.arange(70)
xvals = xvals[4:68]
plt.plot(xvals,sc_filt_cp[4:68],'b')

plt.title('Filtered sub-carrier with CP')
plt.xlabel('n (sample index)')
plt.ylabel('Amplitude')











# Extract steady-state portion of output signal
sc_ss = sc_filt_cp[4:68]  





# Calculate H[k] and X[k]
Hk = np.fft.fft(h,N)
Xk = np.fft.fft(sc_real,N)

# IDFT of  H[k] x X[k] 
y = np.fft.ifft(Hk * Xk)





mse = np.mean(abs(y-sc_ss)**2)


mse





















