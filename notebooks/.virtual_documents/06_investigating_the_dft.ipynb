





import numpy as np

fs = 48e3 # Sampling frequency
ts = 1/fs # Regular sampling period
N = 16    # Number of samples
n = np.arange(N) # Sample points





a = 0.5*np.cos(2*np.pi*3e3*n*ts + np.pi/4)
b = np.cos(2*np.pi*9e3*n*ts)





x = np.around(a + b, 4)
for i in range(0, N):
    print(''.join(['x(', str(i), ') = ', str(x[i])]))





import matplotlib.pyplot as plt

def stem_plot(x, y, title, xlabel, ylabel, xticks=None, yticks=None, figsize=(6, 3), subplot=(1, 1), bottom=None, style=None):
    fig = plt.figure(figsize=figsize)
    for idx, value in enumerate(y):
        axes = fig.add_subplot(subplot[0], subplot[1], idx+1)
        if bottom is not None:
            axes.stem(x[idx], y[idx], use_line_collection = True, bottom=bottom[idx])
        else:
            axes.stem(x[idx], y[idx], use_line_collection = True)
        if style is not None:
            if style[idx] == 'dashed':
                axes.plot(x[idx], y[idx], linestyle='dashed')
        axes.grid(True, which='major')
        if xticks is not None:
            axes.set_xticks(xticks[idx])
        if yticks is not None:
            axes.set_yticks(yticks[idx])
        axes.set_title(title[idx])
        axes.set_xlabel(xlabel[idx])
        axes.set_ylabel(ylabel[idx])
        plt.box(False)





stem_plot(x      = [n],
          y      = [x],
          xticks = [n], 
          figsize= (6, 3),
          title  = ["Discrete Waveform $x(n)$"], 
          style  = ["dashed"], 
          xlabel = ["Samples (n)"], 
          ylabel = ["Amplitude"])





X = np.zeros(N, dtype=np.complex64)





X[0] = np.sum(x)
print(''.join(['X(0) = ', str(np.round(X[0], 2))]))





X[1] = np.sum(x*np.exp(-2j*np.pi*1*n/N))
print(''.join(['X(1) = ', str(np.round(X[1], 2))]))





X[2] = np.sum(x*np.exp(-2j*np.pi*2*n/N))
print(''.join(['X(2) = ', str(np.round(X[2], 2))]))





X[3] = np.sum(x*np.exp(-2j*np.pi*3*n/N))
print(''.join(['X(3) = ', str(np.round(X[3], 2))]))





def dft(x):
    N = np.size(x)
    X = np.zeros(N, dtype=np.complex64)
    n = np.arange(0, N)
    for k in range(N):
        X[k] = np.sum(x*np.exp(-2j*np.pi*k*n/N))
    return X





X = np.round(dft(x), 2) + (0.0 + 0.0j) # Add 0.0+0.0j to remove -0.0-0.0j
for i in range(N):
    print(''.join(['X(',str(i),') = ',str(X[i])]))








Xm = np.round(np.abs(X), 2)





Xp = np.round(np.angle(X, deg=True), 2)





for i in range(0, N):
    print(''.join(['X(',str(i),') = ',str(Xm[i]),' ∠ ',str(Xp[i]),'°']))





stem_plot(x      = [n*(fs/N)/1e3, n*(fs/N)/1e3],
          y      = [np.real(X), np.imag(X)],
          yticks = [np.arange(0, 9), np.arange(-3, 4)],
          figsize= (14, 3),
          xticks = [n*(fs/N)/1e3, n*(fs/N)/1e3], 
          subplot= (1, 2),
          title  = ["Real Part of $X(k)$", "Imaginary Part of $X(k)$"],
          xlabel = ["Frequency (kHz)", "Frequency (kHz)"], 
          ylabel = ["Amplitude", "Amplitude"])





stem_plot(x      = [n*(fs/N)/1e3, n*(fs/N)/1e3],
          y      = [Xm, Xp],
          yticks = [np.arange(0, 9), np.arange(-45, 60, 15)],
          figsize= (14, 3),
          xticks = [n*(fs/N)/1e3, n*(fs/N)/1e3], 
          subplot= (1, 2),
          title  = ["Magnitude of $X(k)$", "Phase of $X(k)$"],
          xlabel = ["Frequency (kHz)", "Frequency (kHz)"], 
          ylabel = ["Magnitude", "Phase (degrees)"])





Xnorm = (Xm/N)

stem_plot(x      = [n*(fs/N)/1e3],
          y      = [Xnorm],
          figsize= (6, 3),
          yticks = [np.arange(0, 1.125, 0.125)],
          xticks = [n*(fs/N)/1e3],
          title  = ["Normalised Magnitude of $X(k)$"],
          xlabel = ["Frequency (kHz)"], 
          ylabel = ["Normalised Magnitude"])








stem_plot(x      = [(n-N/2+1)*(fs/N)/1e3],
          y      = [np.concatenate((Xnorm[N//2+1:N], Xnorm[0:N//2+1]))],
          figsize= (6, 3),
          yticks = [np.arange(0, 1.25, 0.25)],
          xticks = [(n-N/2+1)*(fs/N)/1e3],
          title  = ["Complex Frequency Spectrum of $|X\'(k)|$"],
          xlabel = ["Frequency (kHz)"], 
          ylabel = ["Normalised Magnitude"])





positive_exp = (1/2) * np.exp(2j*np.pi*9000*n*ts)
negative_exp = (1/2) * np.exp(-2j*np.pi*9000*n*ts)
real_waveform = positive_exp + negative_exp





from mpl_toolkits.mplot3d import Axes3D

fig = plt.figure(figsize=(14,5))
title = ['Positive-Frequency\nComplex Exponential',
         'Negative-Frequency\nComplex Exponential',
         'Sum of Complex\nExponentials (Cosine Wave)']

for idx, value in enumerate([positive_exp, negative_exp, real_waveform]):
    axes = fig.add_subplot(1,3,idx+1, projection='3d')
    axes.plot(np.real(value), n, np.imag(value))
    axes.set_proj_type('ortho')
    axes.set_xticks(np.arange(-1, 1.5, 0.5))
    axes.set_zticks(np.arange(-1, 1.5, 0.5))
    axes.set_yticks(np.arange(0, N+1, N/4))
    axes.set_xlabel('Re')
    axes.set_ylabel('Samples (n)')
    axes.set_zlabel('Im')
    axes.set_title(title[idx])
    axes.view_init(-150, 45)
    axes.dist = 12
    
fig.tight_layout()





for i in range(N):
    temp = np.round(np.sum(x*np.exp(-2j*np.pi*i*n/N)), 2) + (0.0 + 0.0j)
    temp_N = np.round(np.sum(x*np.exp(-2j*np.pi*(i-N)*n/N)), 2) + (0.0 + 0.0j)
    print('{:s}{:d}{:2s}{:2s}{:.2f}{:>4s}{:d}{:2s}{:2s}{:.2f}'.format(
        'X(', i-N, ')', '=', temp_N, 'X(', i, ')', '=', temp))





fc = -12e3 # select from -21e3 to 24e3 in multiples of 3e3
cwave = np.round((1/4)*np.exp(2j*np.pi*fc*n*ts), 2)
cwave_fnorm = np.round(np.abs(dft(cwave)), 2)/N
fmag_shift = np.concatenate((cwave_fnorm[N//2+1:N], cwave_fnorm[0:N//2+1]))

stem_plot(x      = [(n-N/2+1)*(fs/N)/1e3],
          y      = [fmag_shift],
          figsize= (6, 3),
          yticks = [np.arange(0, 0.625, 0.125)],
          xticks = [(n-N/2+1)*(fs/N)/1e3],
          title  = ["Complex Frequency Spectrum"],
          xlabel = ["Frequency (kHz)"], 
          ylabel = ["Magnitude"])








fs = 1000
ts = 1/fs
fd = 200
N = 32
qlevels = 128 # -128 to 127
n = np.arange(0, N)
x = qlevels * np.sin(2*np.pi*fd*ts*n)

stem_plot(x      = [n],
          y      = [x],
          xticks = [n], 
          yticks = [np.arange(-qlevels, qlevels+1, qlevels//2)],
          figsize= (14, 3),
          title  = ["Quantised Discrete Waveform $x(n)$"], 
          style  = ["dashed"], 
          xlabel = ["Samples (n)"], 
          ylabel = ["Amplitude"])





X = np.round(dft(x), 2) + (0.0 + 0.0j) # Add 0.0+0.0j to remove -0.0-0.0j
Xm = np.round(np.abs(X), 2)
Xnorm = (Xm/N)*2 # multiply by 2 as real
Xpow = Xnorm**2  # power calculation
Xlogpow = 20*np.where(Xnorm>0, np.log10(Xnorm), 0) # log scale

stem_plot(x      = [n[0:N//2+1:1]*(fs/N), n[0:N//2+1:1]*(fs/N)],
          y      = [Xpow[0:N//2+1:1], Xlogpow[0:N//2+1:1]],
          subplot= (1, 2),
          figsize= (14, 3),
          bottom = [0, 15],
          style  = ["dashed", "dashed"],
          yticks = [np.arange(0, 10000+1, 2000), np.arange(15, 40+1, 5)],
          xticks = [n[0:N//2+1:2]*fs/N, n[0:N//2+1:2]*fs/N],
          title  = ["Power Spectra of $X(k)$", "Log-Scale Power Spectra of $X(k)$"],
          xlabel = ["Frequency (Hz)", "Frequency (Hz)"], 
          ylabel = ["Power", "Power (dB)"])





Xdbfs = 20*np.where(Xpow>0, np.log10(Xnorm/qlevels), 0)

stem_plot(x      = [n[0:N//2+1:1]*(fs/N)],
          y      = [Xdbfs[0:N//2+1:1]],
          figsize= (6, 3),
          bottom = [-25],
          yticks = [np.arange(0, -25-1, -5)],
          style  = ["dashed"],
          xticks = [n[0:N//2+1:2]*fs/N],
          title  = ["dBFS Log-Scale Power Spectra of $X(k)$"],
          xlabel = ["Frequency (Hz)"],
          ylabel = ["Power (dBFS)"])





fs = 1000
ts = 1/fs
fd = 125
N = 8
n = np.arange(0, N)
x = np.sin(2*np.pi*fd*ts*n)
X = dft(x)
Xm = np.round(np.abs(X), 2)
Xnorm = (Xm/N)*2 # multiply by 2 as real

stem_plot(x      = [n, n[0:N//2+1:1]*(fs/N)],
          y      = [x, Xnorm[0:N//2+1:1]],
          subplot= (1, 2),
          figsize= (14, 3),
          style  = ["dashed", "dashed"],
          yticks = [np.arange(-1, 1+0.5, 0.5), np.arange(0, 1.2, 0.2)],
          xticks = [n, n[0:N//2+1:1]*fs/N],
          title  = ["Discrete Waveform $x(n)$", "Normalised Magnitude of $X(k)$"],
          xlabel = ["Samples (n)", "Frequency (Hz)"], 
          ylabel = ["Amplitude", "Normalised Magnitude"])





N = 16
n = np.arange(0, N)
x = np.sin(2*np.pi*fd*ts*n)
X = dft(x)
Xm = np.round(np.abs(X), 2)
Xnorm = (Xm/N)*2 # multiply by 2 as real

stem_plot(x      = [n, n[0:N//2+1:1]*(fs/N)],
          y      = [x, Xnorm[0:N//2+1:1]],
          subplot= (1, 2),
          figsize= (14, 3),
          style  = ["dashed", "dashed"],
          yticks = [np.arange(-1, 1+0.5, 0.5), np.arange(0, 1.2, 0.2)],
          xticks = [n, n[0:N//2+1:1]*fs/N],
          title  = ["Discrete Waveform $x(n)$", "Normalised Magnitude of $X(k)$"],
          xlabel = ["Samples (n)", "Frequency (Hz)"], 
          ylabel = ["Amplitude", "Normalised Magnitude"])





fs = 500
ts = 1/fs
N = 8
n = np.arange(0, N)
x = np.sin(2*np.pi*fd*ts*n)
X = dft(x)
Xm = np.round(np.abs(X), 2)
Xnorm = (Xm/N)*2 # multiply by 2 as real

stem_plot(x      = [n, n[0:N//2+1:1]*(fs/N)],
          y      = [x, Xnorm[0:N//2+1:1]],
          subplot= (1, 2),
          figsize= (14, 3),
          style  = ["dashed", "dashed"],
          yticks = [np.arange(-1, 1+0.5, 0.5), np.arange(0, 1.2, 0.2)],
          xticks = [n, n[0:N//2+1:1]*fs/N],
          title  = ["Discrete Waveform $x(n)$", "Normalised Magnitude of $X(k)$"],
          xlabel = ["Samples (n)", "Frequency (Hz)"], 
          ylabel = ["Amplitude", "Normalised Magnitude"])








fs = 1000
ts = 1/fs
fd = 80
N = 16
n = np.arange(0, N)
x = np.sin(2*np.pi*fd*ts*n)
X = dft(x)
Xm = np.round(np.abs(X), 2)
Xnorm = (Xm/N)*2 # multiply by 2 as real

stem_plot(x      = [n, n[0:N//2+1:1]*(fs/N)],
          y      = [x, Xnorm[0:N//2+1:1]],
          subplot= (1, 2),
          figsize= (14, 3),
          style  = ["dashed", "dashed"],
          yticks = [np.arange(-1, 1+0.5, 0.5), np.arange(0, 1.2, 0.2)],
          xticks = [n, n[0:N//2+1:1]*fs/N],
          title  = ["Discrete Waveform $x(n)$", "Normalised Magnitude of $X(k)$"],
          xlabel = ["Samples (n)", "Frequency (Hz)"], 
          ylabel = ["Amplitude", "Normalised Magnitude"])





Nc = 1024
Xc = dft(np.pad(x, (0, Nc-N), 'constant'))
Xcm = np.round(np.abs(Xc), 2)
Xcnorm = (Xcm/N)*2 # multiply by 2 as real

fig = plt.figure(figsize=(6, 3))
axes = fig.add_subplot(1, 1, 1)
axes.stem(n[0:N//2+1:1]*(fs/N), Xnorm[0:N//2+1:1], use_line_collection=True)
axes.plot(np.arange(0,Nc//2+1,1)*(fs/Nc), Xcnorm[0:Nc//2+1:1], linestyle='dashed')
axes.grid(True, which='major')
axes.set_title('Normalised Magnitude of $X(k)$')
axes.set_yticks(np.arange(0, 1.2, 0.2))
axes.set_xticks(n[0:N//2+1:1]*fs/N)
axes.set_xlabel('Frequency (kHz)')
axes.set_ylabel('Normalised Magnitude')
plt.box(False)








fs = 1000
ts = 1/fs
fd = 80
N = 16
n = np.arange(0, N)
x = np.sin(2*np.pi*fd*ts*n)

stem_plot(x      = [n],
          y      = [x],
          figsize= (6, 3),
          xticks = [n], 
          yticks = [np.arange(-1, 1.5, 0.5)],
          title  = ["Discrete Waveform $x(n)$"], 
          style  = ["dashed"], 
          xlabel = ["Samples (n)"], 
          ylabel = ["Amplitude"])





w = np.hanning(N)
xw = x*w

stem_plot(x      = [n],
          y      = [xw],
          figsize= (6, 3),
          xticks = [n], 
          yticks = [np.arange(-1, 1.5, 0.5)],
          title  = ["Windowed Discrete Waveform $x(n)$"], 
          style  = ["dashed"], 
          xlabel = ["Samples (n)"], 
          ylabel = ["Amplitude"])





Xm = np.round(np.abs(dft(x)), 2)*2
Xwm = np.round(np.abs(dft(xw)), 2)*2

stem_plot(x      = [n[0:N//2+1:1]*(fs/N), n[0:N//2+1:1]*(fs/N)],
          y      = [Xm[0:N//2+1:1], Xwm[0:N//2+1:1]],
          yticks = [np.arange(0, 20, 4), np.arange(0, 20, 4)],
          figsize= (14, 3),
          style  = ["dashed", "dashed"],
          xticks = [n[0:N//2+1:1]*fs/N, n[0:N//2+1:1]*fs/N], 
          subplot= (1, 2),
          title  = ["Magnitude Spectra (Rectangular Window)",
                    "Magnitude Spectra (Hanning Window)"],
          xlabel = ["Frequency (Hz)", "Frequency (Hz)"], 
          ylabel = ["Magnitude", "Magnitude"])





Xnorm = Xm/np.sum(np.ones(N))
Xwnorm = Xwm/np.sum(np.hanning(N))

stem_plot(x      = [n[0:N//2+1:1]*(fs/N), n[0:N//2+1:1]*(fs/N)],
          y      = [Xnorm[0:N//2+1:1], Xwnorm[0:N//2+1:1]],
          yticks = [np.arange(0, 1.25, 0.25), np.arange(0, 1.25, 0.25)],
          figsize= (14, 3),
          style  = ["dashed", "dashed"],
          xticks = [n[0:N//2+1:1]*fs/N, n[0:N//2+1:1]*fs/N], 
          subplot= (1, 2),
          title  = ["Normalised Magnitude Spectra (Rectangular Window)",
                    "Normalised Magnitude Spectra (Hanning Window)"],
          xlabel = ["Frequency (Hz)", "Frequency (Hz)"], 
          ylabel = ["Normalised Magnitude", "Normalised Magnitude"])





N = 16 # even number only
windows = ['ones', 'hamming', 'hanning', 'blackman', 'bartlett']
names = ['Rectangular', 'Hamming', 'Hanning', 'Blackman', 'Bartlett']

fig = plt.figure(figsize=(14, 16))

for idx, window in enumerate(windows):
    w = getattr(np, window)
    axes = fig.add_subplot(3, 2, idx+1)
    if window == 'bartlett':
        n = np.arange(0, N+1, 1)
        axes.stem(n, w(N+1), use_line_collection=True)
        axes.plot(n, w(N+1), linestyle='dashed')
    else:
        n = np.arange(0, N, 1)
        axes.stem(n, w(N), use_line_collection=True)
        axes.plot(n, w(N), linestyle='dashed')
    axes.grid(True, which='major')
    axes.set_xticks(n)
    axes.set_title(''.join([names[idx], ' Window']))
    axes.set_xlabel('Samples (n)')
    axes.set_ylabel('Amplitude')
    plt.box(False)





import warnings
warnings.filterwarnings("ignore", category=RuntimeWarning) 

N = 64
Nc = 16384
fig = plt.figure(figsize=(14, 6))
axes = fig.add_subplot(1, 1, 1)
colours = ["b", "r", "y", "m", "g"]

for idx, window in enumerate(windows):
    w = getattr(np, window)
    Xw = np.fft.fft(np.pad(w(N), (0, Nc-N), 'constant'))
    Xwm = np.abs(Xw)
    Xwnorm = Xwm/np.sum(w(N))
    Xwlog = 20*np.log10(Xwnorm)
    axes.plot(np.arange(0, Nc//8+1, 1)/8192, Xwlog[0:Nc//8+1:1], colours[idx])
    axes.set_yticks(np.arange(0, -90, -10))
    axes.set_xticks(np.arange(0, N/(Nc/N)+0.05, 0.05))
    axes.set_ylim([-80, 0])
    axes.grid(True, which='major')
    axes.legend(names)
    plt.box(False)








def scallop_loss(w):
    N = len(w)
    n = np.arange(0, N, 1)
    numerator = np.abs(np.sum(w*np.exp(-1j*np.pi*n/N)))
    decimator = np.sum(w)
    return numerator/decimator





np.round(scallop_loss(np.ones(16)), 4)





np.round(scallop_loss(np.hanning(16)), 4)








fs = 2000
ts = 1/fs
fd = 250
N = 16
n = np.arange(0, N, 1)
x = np.sin(2*np.pi*fd*ts*n)
Xm = np.round(np.abs(dft(x)), 2)*2

stem_plot(x      = [n, n[0:N//2+1:1]*(fs/N)],
          y      = [x, Xm[0:N//2+1]],
          subplot= (2, 1),
          figsize= (14, 10),
          style  = ["dashed", "dashed"],
          yticks = [np.arange(-1, 1+0.5, 0.5), np.arange(0, 20, 4)],
          xticks = [n, n[0:N//2+1:1]*fs/N],
          title  = ["Discrete Waveform $x(n)$", "Magnitude Spectra of $x(n)$"],
          xlabel = ["Samples (n)", "Frequency (Hz)"], 
          ylabel = ["Amplitude", "Magnitude"])





Nc = 32
n = np.arange(0, Nc, 1)
xp = np.pad(x, (0, Nc-N), 'constant')
Xm = np.round(np.abs(dft(xp)), 2)*2

stem_plot(x      = [n, n[0:Nc//2+1:1]*(fs/Nc)],
          y      = [xp, Xm[0:Nc//2+1]],
          subplot= (2, 1),
          figsize= (14, 10),
          style  = ["dashed", "dashed"],
          yticks = [np.arange(-1, 1+0.5, 0.5), np.arange(0, 20, 4)],
          xticks = [n, n[0:Nc//2+1:1]*fs/Nc],
          title  = ["Discrete Waveform $x(n)$", "Magnitude Spectra of $x(n)$"],
          xlabel = ["Samples (n)", "Frequency (Hz)"], 
          ylabel = ["Amplitude", "Magnitude"])





Nc = 48
n = np.arange(0, Nc, 1)
xp = np.pad(x, (0, Nc-N), 'constant')
Xm = np.round(np.abs(dft(xp)), 2)*2

stem_plot(x      = [n, n[0:Nc//2+1:1]*(fs/Nc)],
          y      = [xp, Xm[0:Nc//2+1]],
          subplot= (2, 1),
          figsize= (14, 10),
          style  = ["dashed", "dashed"],
          yticks = [np.arange(-1, 1+0.5, 0.5), np.arange(0, 20, 4)],
          xticks = [n, n[0:Nc//2+1:1]*fs/Nc],
          title  = ["Discrete Waveform $x(n)$", "Magnitude Spectra of $x(n)$"],
          xlabel = ["Samples (n)", "Frequency (Hz)"], 
          ylabel = ["Amplitude", "Magnitude"])






