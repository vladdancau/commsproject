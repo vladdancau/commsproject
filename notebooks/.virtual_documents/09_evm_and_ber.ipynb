








import numpy as np

noise = np.random.randn(50000,1)
print("Mean of my signal: {}".format(np.mean(noise)))
print("Variance of my signal: {}".format(np.var(noise)))





import matplotlib.pyplot as plt

plt.hist(noise, bins=100)
plt.title('Histogram of noise samples')
plt.xlabel('Magnitude')
plt.ylabel('Num repetitions')
plt.show()





plt.hist(noise*2, bins=100)
plt.hist(noise, bins=100)
plt.hist(noise*0.5, bins=100)
plt.title('Histogram of noise samples')
plt.xlabel('Magnitude')
plt.ylabel('Num repetitions')
plt.legend(('Variance = 4', 'Variance = 1', 'Variance = 0.25'))
plt.show()





snr = 10 # specify SNR in dB
qpsk_scheme = [1+1j, 1-1j, -1+1j, -1-1j]
ints = np.random.randint(0,4,1024)
qpsk_symbols = [qpsk_scheme[i] for i in ints]
sig_power = np.mean(np.abs(qpsk_symbols)**2) # calculate signal power
sig_power_db = 10* np.log10(sig_power) # convert to dB





noise_power_db = sig_power_db - snr
noise_power = 10**(noise_power_db / 10)





complex_noise = np.sqrt(noise_power/2)*(np.random.randn(len(qpsk_symbols)) + \
                                        np.random.randn(len(qpsk_symbols))*1j)





qpsk_symbols_noisy = qpsk_symbols + complex_noise





plt.figure(figsize=(5,5))
plt.scatter(qpsk_symbols_noisy.real, qpsk_symbols_noisy.imag)
plt.scatter(np.real(qpsk_scheme), np.imag(qpsk_scheme), s=120, c='red', marker='x')
plt.grid()
plt.title('QPSK constellation diagram at 10dB')
plt.xlabel('Channel 1 amplitude')
plt.ylabel('Channel 2 amplitude')
plt.legend(('Received symbols', 'Reference points'), \
           bbox_to_anchor=(1, 1), loc='upper left')





def awgn(signal, snr):
    sig_power = np.mean(np.abs(signal)**2) # calculate signal power
    sig_power_db = 10* np.log10(sig_power) # convert to dB

    noise_power_db = sig_power_db - snr
    noise_power = 10**(noise_power_db / 10)

    complex_noise = np.sqrt(noise_power/2)*(np.random.randn(len(signal)) + \
                                            np.random.randn(len(signal))*1j)

    return signal + complex_noise





# Apply white noise to our signal so that the SNR is 20dB
qam_scheme = [-3-3j, -3-1j, -3+3j, -3+1j,  \
              -1-3j, -1-1j, -1+3j, -1+1j,  \
               3-3j,  3-1j,  3+3j,  3+1j,  \
               1-3j,  1-1j,  1+3j,  1+1j]
ints = np.random.randint(0,16,1024)
qam_symbols = [qam_scheme[i] for i in ints]
qam_symbols_20db = awgn(qam_symbols, 20)

plt.figure(figsize=(5,5))
plt.scatter(qam_symbols_20db.real, qam_symbols_20db.imag)
plt.scatter(np.real(qam_scheme), np.imag(qam_scheme), s=120, c='red', marker='x')
plt.grid()
plt.title('QAM-16 constellation diagram at 20dB')
plt.xlabel('Channel 1 amplitude')
plt.ylabel('Channel 2 amplitude')
plt.legend(('Received symbols', 'Reference points'), \
           bbox_to_anchor=(1, 1), loc='upper left')





qam_symbols_10db = awgn(qam_symbols,10)





plt.figure(figsize=(5,5))
plt.scatter(qam_symbols_10db.real, qam_symbols_10db.imag)
plt.scatter(np.real(qam_scheme), np.imag(qam_scheme), s=120, c='red', marker='x')
plt.grid()
plt.title('QAM-16 constellation diagram at 10dB')
plt.xlabel('Channel 1 amplitude')
plt.ylabel('Channel 2 amplitude')
plt.legend(('Received symbols', 'Reference points'), \
           bbox_to_anchor=(1, 1), loc='upper left')








def calculate_evm(symbols_tx, symbols_rx):
    evm_rms = np.sqrt(np.mean(np.abs(symbols_rx - symbols_tx )**2)) / \
              np.sqrt(np.mean(np.abs(symbols_tx)**2))
    
    return evm_rms*100


print("QAM-16 EVM at 20dB: {:.2f}%".format(calculate_evm(qam_symbols_20db, qam_symbols)))





print("QAM-16 EVM at 10dB: {:.2f}%".format(calculate_evm(qam_symbols_10db, qam_symbols)))








def bpsk_demodulate(symbols):
    demodded = [None]*len(symbols)
    
    for i, symbol in enumerate(symbols):
        if symbol.real >= 0:
            demodded[i] = 1
        else:
            demodded[i] = 0
            
    return np.array(demodded)





bits = np.random.randint(0,2,16)
bpsk_scheme = [-1+0j, 1+0j]
bpsk_symbols = [bpsk_scheme[i] for i in bits]

ebno_range = np.arange(-10,10)
ber_bpsk = []

for ebno in ebno_range:
    # Generate random bits
    bits_tx = np.random.randint(0,2,75000)
    
    # Map our bits to BPSK symbols
    bpsk_symbols = [bpsk_scheme[i] for i in bits_tx]
    
    # Pass symbols through awgn channel
    bpsk_symbols_tx = awgn(bpsk_symbols, ebno)
    
    # Recover bits from noisy constellations
    bits_rx = bpsk_demodulate(bpsk_symbols_tx)
    
    # Calculate BER and append to list
    ber_bpsk.append((len(bits_tx)-sum(bits_rx==bits_tx))/len(bits_tx))
    
plt.semilogy(ebno_range,ber_bpsk)
plt.xlabel('Eb/No, dB')
plt.ylabel('Bit Error Rate')
plt.title('BPSK BER')
plt.grid()





def qpsk_demodulate(symbols):
    demodded_symbols = [None]*len(symbols)
    
    for i,symbol in enumerate(symbols):
        if symbol.real >= 0:
            if symbol.imag >= 0:               # upper right quadrant ++
                demodded_symbols[i] = 0
            else:                              # lower right quadrant +-
                demodded_symbols[i] = 1
        else:
            if symbol.imag >= 0:               # upper left quadrant -+
                demodded_symbols[i] = 2
            else:                              # lower left quadrant --
                demodded_symbols[i] = 3
    
    return np.array(demodded_symbols)





# We'll use this dictionary to map our integers into bits for QPSK BER
binary_mapping = {0 : (0, 0),
                  1 : (0, 1),
                  2 : (1, 0),
                  3 : (1, 1)}





ebno_range = np.arange(-10,10)
ser_qpsk, ber_qpsk = [], []

for ebno in ebno_range:
    # Generate random integers
    ints_tx = np.random.randint(0,4,50000)
    
    # Map them to symbols given our QPSK scheme
    qpsk_symbols = [qpsk_scheme[i] for i in ints_tx]
    
    # Add noise for each Eb/No value
    snr = ebno + 10*np.log10(2)
    qpsk_symbols_tx = awgn(qpsk_symbols,snr)
    
    # Recover symbols from the noisy constellations
    ints_rx = qpsk_demodulate(qpsk_symbols_tx)
    
    # Calculate SER and append to list
    ser_qpsk.append((len(ints_tx)-sum(ints_rx==ints_tx))/len(ints_tx))
    
    # convert to bits
    bits_tx = np.array([binary_mapping[symbol] for symbol in ints_tx]).reshape(-1)
    bits_rx = np.array([binary_mapping[symbol] for symbol in ints_rx]).reshape(-1)
    
    # Calculate BER and append to list
    ber_qpsk.append(np.sum(bits_tx != bits_rx)/len(bits_tx))
    
plt.semilogy(ebno_range,ber_qpsk)
plt.semilogy(ebno_range,ser_qpsk)
plt.title('QPSK Error Rates')
plt.xlabel('Eb/No, dB')
plt.ylabel('Error Rate')
plt.legend(('QPSK BER', 'QPSK SER'))
plt.grid()









