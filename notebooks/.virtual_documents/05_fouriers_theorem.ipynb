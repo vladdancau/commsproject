





from scipy import signal, integrate
import matplotlib.pyplot as plt
import numpy as np





def squarewave(x, amplitude=3, dcbias=3, phase=np.pi/4):
    return signal.square(x+phase)*amplitude+dcbias

fs = 1e3
x = np.arange(-2*np.pi, 2*np.pi, 1/fs)
plt.plot(x, squarewave(x), label='Square Wave', linestyle='dashed')
plt.ylim([-1, 7])
plt.xlim([-2*np.pi, 2*np.pi])
plt.xlabel('Phase (Radians)')
plt.ylabel('Amplitude')
plt.show()





a0 = integrate.quad(squarewave, -np.pi, np.pi)[0]/(2*np.pi)
print('The DC bias is ' + str(a0) + '.')





def gcos(x, g, n):
    return g(x)*np.cos(n*x)

def gsin(x, g, n):
    return g(x)*np.sin(n*x)

g = squarewave
n = 1
a1 = integrate.quad(gcos, -np.pi, np.pi, args=(g, n))[0]/(np.pi)
b1 = integrate.quad(gsin, -np.pi, np.pi, args=(g, n))[0]/(np.pi)





s1 = a0 + a1*np.cos(n*x) + b1*np.sin(n*x)
plt.plot(x, squarewave(x), label='Square Wave', linestyle='dashed')
plt.plot(x, s1, label='1 Term')
plt.ylim([-1, 7])
plt.xlim([-2*np.pi, 2*np.pi])
plt.legend(loc='upper right')
plt.xlabel('Phase (Radians)')
plt.ylabel('Amplitude')
plt.show()





n = 3
a3 = integrate.quad(gcos, -np.pi, np.pi, args=(g, n))[0]/np.pi
b3 = integrate.quad(gsin, -np.pi, np.pi, args=(g, n))[0]/np.pi





s3 = s1 + a3*np.cos(n*x) + b3*np.sin(n*x)
plt.plot(x, squarewave(x), label='Square Wave', linestyle='dashed')
plt.plot(x, s3, label='3 Terms')
plt.ylim([-1, 7])
plt.xlim([-2*np.pi, 2*np.pi])
plt.legend(loc='upper right')
plt.xlabel('Phase (Radians)')
plt.ylabel('Amplitude')
plt.show()








def fourier_coeffs(x, g, n, a=-np.pi, b=np.pi):
    an, bn = np.zeros(n), np.zeros(n)
    a0 = integrate.quad(g, a, b)[0]/(b-a)
    for i in range(1, n + 1):
        an[i-1] = integrate.quad(gcos, a, b, args=(g, i))[0]*2/(b-a)
        bn[i-1] = integrate.quad(gsin, a, b, args=(g, i))[0]*2/(b-a)
    return a0, an, bn





def fourier_sum(x, a0, an, bn, n=None):
    if n == None or n > len(an):
        n = len(an)
    s = np.ones(len(x))*a0
    for i in range(1, n + 1):
        s += an[i-1]*np.cos(i*x) + bn[i-1]*np.sin(i*x)
    return s





a0, an, bn = fourier_coeffs(x, squarewave, n=26)





s = fourier_sum(x, a0, an, bn, n=13)
plt.plot(x, squarewave(x), label='Square Wave', linestyle='dashed')
plt.plot(x, s, label='13 Terms')
plt.ylim([-1, 7])
plt.xlim([-2*np.pi, 2*np.pi])
plt.legend(loc='upper right')
plt.xlabel('Phase (Radians)')
plt.ylabel('Amplitude')
plt.show()





s = fourier_sum(x, a0, an, bn, n=26)
plt.plot(x, squarewave(x), label='Square Wave', linestyle='dashed')
plt.plot(x, s, label='26 Terms')
plt.ylim([-1, 7])
plt.xlim([-2*np.pi, 2*np.pi])
plt.legend(loc='upper right')
plt.xlabel('Phase (Radians)')
plt.ylabel('Amplitude')
plt.show()





def sawtoothwave(x, amplitude=0.5, dcbias=0.5, phase=np.pi):
    return signal.sawtooth(x+phase)*amplitude+dcbias





fs = 1e3
T = 1/2
ts = np.arange(0, 1, 1/fs)
x = 2*np.pi*ts/T
plt.plot(ts, sawtoothwave(x), label='Sawtooth Wave', linestyle='dashed')
plt.ylim([-0.2, 1.2])
plt.xlim([0.0, 1.0])
plt.legend(loc='upper right')
plt.xlabel('Time (s)')
plt.ylabel('Amplitude')
plt.show()





a0, an, bn = fourier_coeffs(x, sawtoothwave, n=5, a=x[0], b=x[-1])
s1 = fourier_sum(x, a0, an, bn, n=1)
s2 = fourier_sum(x, a0, an, bn, n=2)
s3 = fourier_sum(x, a0, an, bn, n=3)
plt.plot(ts, sawtoothwave(x), label='Sawtooth Wave', linestyle='dashed')
plt.plot(ts, s1, label='1 Term')
plt.plot(ts, s2, label='2 Terms')
plt.plot(ts, s3, label='3 Terms')
plt.ylim([-0.2, 1.2])
plt.xlim([0.0, 1.0])
plt.legend(loc='upper right')
plt.xlabel('Time (s)')
plt.ylabel('Amplitude')
plt.show()








np.e





c = np.cos(np.pi/8) + 1j*np.sin(np.pi/8)
np.round(c, 4)





c = np.e**(1j*np.pi/8)
np.round(c, 4)





cbar = np.e**(-1j*np.pi/8)
np.round(cbar, 4)





np.e**(2) * np.e**(3) == np.e**(2 + 3)








def complex_wave(x, amplitude=1+0.5j, dcbias=0+0j, phase=np.pi/4+0j):
    re = signal.sawtooth(x+np.real(phase)+np.pi)*np.real(amplitude)+np.real(dcbias)
    im = signal.square(x+np.imag(phase))*np.imag(amplitude)+np.imag(dcbias)
    return re + 1j*im





fs = 1e3
ts = np.arange(0, 0.5, 1/fs)
T = 1/4
x = 2*np.pi*ts/T
plt.plot(ts, np.real(complex_wave(x)), label='Real Wave', linestyle='dashed')
plt.plot(ts, np.imag(complex_wave(x)), label='Imag Wave')
plt.ylim([-1.2, 1.2])
plt.xlim([0.0, 0.5])
plt.legend(loc='upper right')
plt.xlabel('Time (s)')
plt.ylabel('Amplitude')
plt.show()





def gexp(x, g, n):
    return g(x)*np.e**(-1j*n*x)





def real_gexp(x, g, n):
    return np.real(gexp(x, g, n))

def imag_gexp(x, g, n):
    return np.imag(gexp(x, g, n))

def complex_fourier_coeffs(x, g, n, a=-np.pi, b=np.pi):
    an, bn = np.zeros(2*n+1), np.zeros(2*n+1)
    for i in range(-n, n+1):
        an[i+n]=integrate.quad(real_gexp, a, b, args=(g, i))[0]/(b-a)
        bn[i+n]=integrate.quad(imag_gexp, a, b, args=(g, i))[0]/(b-a)
    cn = an + 1j*bn
    return cn

def complex_fourier_sum(x, cn):
    n = int(np.ceil(len(cn)/2))-1
    s = np.zeros(len(x), dtype=complex)
    for i in range(-n, n+1):
        s += (cn[i+n]) * np.e**(1j*x*i)
    return s





n = 9
cn = complex_fourier_coeffs(x, complex_wave, n)
s = complex_fourier_sum(x, cn)
plt.plot(ts, np.real(s), label='Real Wave (9 Terms)', linestyle='dashed')
plt.plot(ts, np.imag(s), label='Imag Wave (9 Terms)')
plt.ylim([-1.2, 1.2])
plt.xlim([0.0, 0.5])
plt.legend(loc='upper right')
plt.xlabel('Time (s)')
plt.ylabel('Amplitude')
plt.show()






