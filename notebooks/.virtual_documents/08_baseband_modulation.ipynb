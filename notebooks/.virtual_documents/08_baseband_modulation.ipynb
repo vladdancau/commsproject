





import numpy as np
import matplotlib.pyplot as plt





bits = np.random.randint(0,2,16)
bits





bpsk_scheme = [-1+0j, 1+0j]
bpsk_symbols = [bpsk_scheme[i] for i in bits]





plt.figure(figsize=(5,5))
plt.scatter(np.real(bpsk_symbols), np.imag(bpsk_symbols))
plt.title('BPSK constellation diagram')
plt.xlabel('Channel 1 amplitude')
plt.ylabel('Channel 2 amplitude')
plt.grid()





qpsk_scheme = [1+1j, 1-1j, -1+1j, -1-1j]





ints = np.random.randint(0,4,1024)
ints





qpsk_symbols = [qpsk_scheme[i] for i in ints]





plt.figure(figsize=(5,5))
plt.scatter(np.real(qpsk_symbols), np.imag(qpsk_symbols))
plt.title('QPSK constellation diagram')
plt.xlabel('Channel 1 amplitude')
plt.ylabel('Channel 2 amplitude')
plt.grid()
plt.show()





# Generate 16-QAM symbols
qam_scheme = [-3-3j, -3-1j, -3+3j, -3+1j,  \
              -1-3j, -1-1j, -1+3j, -1+1j,  \
               3-3j,  3-1j,  3+3j,  3+1j,  \
               1-3j,  1-1j,  1+3j,  1+1j]
ints = np.random.randint(0,16,1024)
qam_symbols = [qam_scheme[i] for i in ints]

# Plot the mapped symbols
plt.figure(figsize=(5,5))
plt.scatter(np.real(qam_symbols), np.imag(qam_symbols))
plt.title('16-QAM constellation diagram')
plt.xlabel('Channel 1 amplitude')
plt.ylabel('Channel 2 amplitude')
plt.grid()
plt.show()






