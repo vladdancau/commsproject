{
 "cells": [
  {
   "cell_type": "markdown",
   "metadata": {},
   "source": [
    "# Welcome to the COM-304 SDR Tutorials Series\n",
    "* In this Jupyter Notebook, we are going to see how we can implement the same GNU Radio Transmitter / Receiver in Python"
   ]
  },
  {
   "cell_type": "markdown",
   "metadata": {},
   "source": [
    "Let's first import the various dependencies that GNU Radio requires"
   ]
  },
  {
   "cell_type": "code",
   "execution_count": 1,
   "metadata": {},
   "outputs": [],
   "source": [
    "import sys\n",
    "import signal\n",
    "import osmosdr\n",
    "import time\n",
    "\n",
    "from packaging.version import Version as StrictVersion\n",
    "from PyQt5 import Qt\n",
    "from gnuradio import qtgui\n",
    "from gnuradio import analog\n",
    "from gnuradio import audio\n",
    "from gnuradio import blocks\n",
    "from gnuradio import filter\n",
    "from gnuradio.filter import firdes\n",
    "from gnuradio import gr\n",
    "from gnuradio.fft import window\n",
    "from gnuradio.eng_arg import eng_float, intx\n",
    "from argparse import ArgumentParser"
   ]
  },
  {
   "cell_type": "code",
   "execution_count": 2,
   "metadata": {},
   "outputs": [],
   "source": [
    "class firstFmTransceiver(gr.top_block, Qt.QWidget):\n",
    "\n",
    "    def __init__(self):\n",
    "        gr.top_block.__init__(self, \"My First FM Transceiver\", catch_exceptions=True)\n",
    "\n",
    "        ##################################################\n",
    "        # Variables - define your varaibles here :)\n",
    "        ##################################################\n",
    "        self.samp_rate = samp_rate = 3.5e6\n",
    "\n",
    "        ##################################################\n",
    "        # Blocks\n",
    "        ##################################################\n",
    "\n",
    "        self.rational_resampler = filter.rational_resampler_ccc(\n",
    "                interpolation=100,\n",
    "                decimation=1,\n",
    "                taps=[],\n",
    "                fractional_bw=0)\n",
    "        self.bladerf = osmosdr.source(args=\"numchan=\" + str(1) + \" \" + 'bladerf=0')\n",
    "\n",
    "        self.bladerf.set_time_unknown_pps(osmosdr.time_spec_t())\n",
    "        self.bladerf.set_sample_rate(samp_rate) # Our bladeRF's sample rate\n",
    "        self.bladerf.set_center_freq(866e6, 0) # Our bladeRF's Rx Frequency\n",
    "        self.bladerf.set_freq_corr(0, 0)\n",
    "        self.bladerf.set_dc_offset_mode(0, 0)\n",
    "        self.bladerf.set_iq_balance_mode(0, 0)\n",
    "        self.bladerf.set_gain_mode(False, 0)\n",
    "        self.bladerf.set_gain(10, 0)\n",
    "        self.bladerf.set_if_gain(20, 0)\n",
    "        self.bladerf.set_bb_gain(20, 0)\n",
    "        self.bladerf.set_antenna('', 0)\n",
    "        self.bladerf.set_bandwidth(0, 0)\n",
    "        self.osmosdr_sink_0 = osmosdr.sink(\n",
    "            args=\"numchan=\" + str(1) + \" \" + 'bladerf=0'\n",
    "        )\n",
    "        self.osmosdr_sink_0.set_time_unknown_pps(osmosdr.time_spec_t())\n",
    "        self.osmosdr_sink_0.set_sample_rate(samp_rate)\n",
    "        self.osmosdr_sink_0.set_center_freq(866e6, 0)\n",
    "        self.osmosdr_sink_0.set_freq_corr(0, 0)\n",
    "        self.osmosdr_sink_0.set_gain(10, 0)\n",
    "        self.osmosdr_sink_0.set_if_gain(20, 0)\n",
    "        self.osmosdr_sink_0.set_bb_gain(20, 0)\n",
    "        self.osmosdr_sink_0.set_antenna('', 0)\n",
    "        self.osmosdr_sink_0.set_bandwidth(0, 0)\n",
    "        self.low_pass_filter_0 = filter.fir_filter_ccf(\n",
    "            70,\n",
    "            firdes.low_pass(\n",
    "                1,\n",
    "                samp_rate,\n",
    "                4000,\n",
    "                1000,\n",
    "                window.WIN_HAMMING,\n",
    "                6.76))\n",
    "        self.blocks_wavfile_source_0 = blocks.wavfile_source('/Users/admin/Desktop/commsproject/commsproject/audio/audio1.wav', True) # Our WAV source file\n",
    "        self.audio_sink_0 = audio.sink(48000, '', True)\n",
    "        self.analog_nbfm_tx_0 = analog.nbfm_tx(\n",
    "        \taudio_rate=48000,\n",
    "        \tquad_rate=48000,\n",
    "        \ttau=(75e-6),\n",
    "        \tmax_dev=5e3,\n",
    "        \tfh=(-1.0),\n",
    "                )\n",
    "        self.analog_nbfm_rx_0 = analog.nbfm_rx(\n",
    "        \taudio_rate=48000,\n",
    "        \tquad_rate=48000,\n",
    "        \ttau=(75e-6),\n",
    "        \tmax_dev=5e3,\n",
    "          )\n",
    "\n",
    "\n",
    "        ##################################################\n",
    "        # Connections\n",
    "        ##################################################\n",
    "        self.connect((self.analog_nbfm_rx_0, 0), (self.audio_sink_0, 0)) # connect FM receiver to audio sink (PC's speakers)\n",
    "\n",
    "        self.connect((self.analog_nbfm_tx_0, 0), (self.rational_resampler, 0)) # connect FM transmitter to rational resampler\n",
    "\n",
    "        self.connect((self.blocks_wavfile_source_0, 0), (self.analog_nbfm_tx_0, 0)) # connect WAV file source to FM trasnmitter\n",
    "\n",
    "        self.connect((self.low_pass_filter_0, 0), (self.analog_nbfm_rx_0, 0)) # connect low-pass filter to the FM receiver\n",
    "\n",
    "        self.connect((self.bladerf, 0), (self.low_pass_filter_0, 0)) # connect the bladerf source to the low pass filter\n",
    "\n",
    "        self.connect((self.rational_resampler, 0), (self.osmosdr_sink_0, 0)) # connect the rational resampler to the bladeRF sink (for TX)\n",
    "\n",
    "\n",
    "    def closeEvent(self, event):\n",
    "        self.settings = Qt.QSettings(\"GNU Radio\", \"firstFmTransceiver\")\n",
    "        self.settings.setValue(\"geometry\", self.saveGeometry())\n",
    "        self.stop()\n",
    "        self.wait()\n",
    "\n",
    "        event.accept()\n",
    "\n",
    "    def get_samp_rate(self):\n",
    "        return self.samp_rate\n",
    "\n",
    "    def set_samp_rate(self, samp_rate):\n",
    "        self.samp_rate = samp_rate\n",
    "        self.low_pass_filter_0.set_taps(firdes.low_pass(1, self.samp_rate, 4000, 1000, window.WIN_HAMMING, 6.76))\n",
    "        self.osmosdr_sink_0.set_sample_rate(self.samp_rate)\n",
    "        self.bladerf.set_sample_rate(self.samp_rate)"
   ]
  },
  {
   "cell_type": "code",
   "execution_count": 3,
   "metadata": {},
   "outputs": [
    {
     "name": "stdout",
     "output_type": "stream",
     "text": [
      "[bladeRF common] init: DEBUG: entering initialization\n",
      "[bladeRF source] init: Opening Nuand bladeRF with device identifier string '*:instance=0'\n",
      "[bladeRF source] Device: Nuand bladeRF 2.0 Serial # 08b7...8047 FW v2.4.0 FPGA v0.15.0\n",
      "[bladeRF source] init: Buffers: 512, samples per buffer: 4096, active transfers: 32\n",
      "[bladeRF source] bladerf_source_c: DEBUG: initialization complete\n"
     ]
    },
    {
     "name": "stderr",
     "output_type": "stream",
     "text": [
      "gr-osmosdr 0.2.0.0 (0.2.0) gnuradio 3.10.7.0\n",
      "built-in source types: file rtl rtl_tcp uhd hackrf bladerf rfspace airspy airspyhf soapy redpitaya \n",
      "gr-osmosdr 0.2.0.0 (0.2.0) gnuradio 3.10.7.0\n",
      "built-in sink types: "
     ]
    },
    {
     "name": "stdout",
     "output_type": "stream",
     "text": [
      "[bladeRF common] init: DEBUG: entering initialization\n",
      "[bladeRF sink] init: Opening Nuand bladeRF with device identifier string '*:instance=0'\n",
      "[bladeRF sink] Device: Nuand bladeRF 2.0 Serial # 08b7...8047 FW v2.4.0 FPGA v0.15.0\n",
      "[bladeRF sink] init: Buffers: 512, samples per buffer: 4096, active transfers: 32\n",
      "[bladeRF sink] bladerf_sink_c: DEBUG: initialization complete\n",
      "len(audio_taps) = 231\n",
      "[bladeRF source] start: DEBUG: starting source\n",
      "[bladeRF sink] start: DEBUG: starting sink\n"
     ]
    },
    {
     "name": "stderr",
     "output_type": "stream",
     "text": [
      "uhd hackrf bladerf soapy redpitaya file \n",
      "[WARNING @ host/libraries/libbladeRF/src/board/bladerf2/rfic_host.c:523] _rfic_host_get_gain_mode: automatic gain control not valid for TX channels\n"
     ]
    },
    {
     "ename": "RuntimeError",
     "evalue": "super-class __init__() of type firstFmTransceiver was never called",
     "output_type": "error",
     "traceback": [
      "\u001b[0;31m---------------------------------------------------------------------------\u001b[0m",
      "\u001b[0;31mRuntimeError\u001b[0m                              Traceback (most recent call last)",
      "\u001b[1;32m/Users/admin/Desktop/commsproject/commsproject/simpleFmTransceiver.ipynb Cell 5\u001b[0m line \u001b[0;36m3\n\u001b[1;32m     <a href='vscode-notebook-cell:/Users/admin/Desktop/commsproject/commsproject/simpleFmTransceiver.ipynb#W5sZmlsZQ%3D%3D?line=26'>27</a>\u001b[0m     qapp\u001b[39m.\u001b[39mexec_()\n\u001b[1;32m     <a href='vscode-notebook-cell:/Users/admin/Desktop/commsproject/commsproject/simpleFmTransceiver.ipynb#W5sZmlsZQ%3D%3D?line=28'>29</a>\u001b[0m \u001b[39mif\u001b[39;00m \u001b[39m__name__\u001b[39m \u001b[39m==\u001b[39m \u001b[39m'\u001b[39m\u001b[39m__main__\u001b[39m\u001b[39m'\u001b[39m:\n\u001b[0;32m---> <a href='vscode-notebook-cell:/Users/admin/Desktop/commsproject/commsproject/simpleFmTransceiver.ipynb#W5sZmlsZQ%3D%3D?line=29'>30</a>\u001b[0m     main()\n",
      "\u001b[1;32m/Users/admin/Desktop/commsproject/commsproject/simpleFmTransceiver.ipynb Cell 5\u001b[0m line \u001b[0;36m1\n\u001b[1;32m      <a href='vscode-notebook-cell:/Users/admin/Desktop/commsproject/commsproject/simpleFmTransceiver.ipynb#W5sZmlsZQ%3D%3D?line=7'>8</a>\u001b[0m tb \u001b[39m=\u001b[39m top_block_cls()\n\u001b[1;32m     <a href='vscode-notebook-cell:/Users/admin/Desktop/commsproject/commsproject/simpleFmTransceiver.ipynb#W5sZmlsZQ%3D%3D?line=9'>10</a>\u001b[0m tb\u001b[39m.\u001b[39mstart()\n\u001b[0;32m---> <a href='vscode-notebook-cell:/Users/admin/Desktop/commsproject/commsproject/simpleFmTransceiver.ipynb#W5sZmlsZQ%3D%3D?line=11'>12</a>\u001b[0m tb\u001b[39m.\u001b[39;49mshow()\n\u001b[1;32m     <a href='vscode-notebook-cell:/Users/admin/Desktop/commsproject/commsproject/simpleFmTransceiver.ipynb#W5sZmlsZQ%3D%3D?line=13'>14</a>\u001b[0m \u001b[39mdef\u001b[39;00m \u001b[39msig_handler\u001b[39m(sig\u001b[39m=\u001b[39m\u001b[39mNone\u001b[39;00m, frame\u001b[39m=\u001b[39m\u001b[39mNone\u001b[39;00m):\n\u001b[1;32m     <a href='vscode-notebook-cell:/Users/admin/Desktop/commsproject/commsproject/simpleFmTransceiver.ipynb#W5sZmlsZQ%3D%3D?line=14'>15</a>\u001b[0m     tb\u001b[39m.\u001b[39mstop()\n",
      "\u001b[0;31mRuntimeError\u001b[0m: super-class __init__() of type firstFmTransceiver was never called"
     ]
    },
    {
     "ename": "",
     "evalue": "",
     "output_type": "error",
     "traceback": [
      "\u001b[1;31mThe Kernel crashed while executing code in the the current cell or a previous cell. Please review the code in the cell(s) to identify a possible cause of the failure. Click <a href='https://aka.ms/vscodeJupyterKernelCrash'>here</a> for more info. View Jupyter <a href='command:jupyter.viewOutput'>log</a> for further details."
     ]
    }
   ],
   "source": [
    "def main(top_block_cls=firstFmTransceiver, options=None):\n",
    "\n",
    "    if StrictVersion(\"4.5.0\") <= StrictVersion(Qt.qVersion()) < StrictVersion(\"5.0.0\"):\n",
    "        style = gr.prefs().get_string('qtgui', 'style', 'raster')\n",
    "        Qt.QApplication.setGraphicsSystem(style)\n",
    "    qapp = Qt.QApplication(sys.argv)\n",
    "\n",
    "    tb = top_block_cls()\n",
    "\n",
    "    tb.start()\n",
    "\n",
    "    tb.show()\n",
    "\n",
    "    def sig_handler(sig=None, frame=None):\n",
    "        tb.stop()\n",
    "        tb.wait()\n",
    "\n",
    "        Qt.QApplication.quit()\n",
    "\n",
    "    signal.signal(signal.SIGINT, sig_handler)\n",
    "    signal.signal(signal.SIGTERM, sig_handler)\n",
    "\n",
    "    timer = Qt.QTimer()\n",
    "    timer.start(500)\n",
    "    timer.timeout.connect(lambda: None)\n",
    "\n",
    "    qapp.exec_()\n",
    "\n",
    "if __name__ == '__main__':\n",
    "    main()\n"
   ]
  }
 ],
 "metadata": {
  "kernelspec": {
   "display_name": "base",
   "language": "python",
   "name": "python3"
  },
  "language_info": {
   "codemirror_mode": {
    "name": "ipython",
    "version": 3
   },
   "file_extension": ".py",
   "mimetype": "text/x-python",
   "name": "python",
   "nbconvert_exporter": "python",
   "pygments_lexer": "ipython3",
   "version": "3.10.12"
  }
 },
 "nbformat": 4,
 "nbformat_minor": 2
}
