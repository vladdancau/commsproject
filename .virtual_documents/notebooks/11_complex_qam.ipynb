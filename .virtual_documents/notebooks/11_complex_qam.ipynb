





import numpy as np
import matplotlib.pyplot as plt





# Set basic params
fs = 4096e6 # sample rate
fb = 64e6 # frequency of baseband signal
fb2 = 32e6 # frequency of second baseband signal
A1 = 2 # baseband signal amplitude
A2 = 1 # second baseband signal amplitude
N_fft = 2048 # fft size

t = np.arange(N_fft)/fs #time scale


# Define two information signals
g1 = A1*np.cos(2*np.pi*fb*t)
g2 = A2*np.cos(2*np.pi*fb2*t)





# Define complex input signal using real g1(t) and imag. g2(t)
g_complex = g1 + 1j*(g2)


# Calculate FFT
g_complex_fft_result = np.fft.fft(g_complex, N_fft)

# Get the corresponding frequencies, that depend on N_fft and Fs - freq. domain x axis
freqs = np.fft.fftfreq(N_fft,1/fs)





fig, axs = plt.subplots(1,3, figsize=(20,4))
axs[0].plot(g_complex.real[:200])
axs[0].plot(g_complex.imag[:200])
axs[0].set_title('Time Domain Complex Information Signal')
axs[0].set_xlabel('Samples')
axs[0].set_ylabel('Amplitude')
axs[0].legend(('I signal Component', 'Q Signal Component'))

axs[1].plot(freqs[:int(N_fft/2)]/1e6, np.abs(g_complex_fft_result[:int(N_fft/2)]))
axs[1].set_title('One Sided FFT plot of the Complex Information Signal')
axs[1].set_ylabel('Magnitude')
axs[1].set_xlabel('Frequency, MHz')
fig.tight_layout()

axs[2].plot(freqs[:int(N_fft)]/1e6, np.abs(g_complex_fft_result[:int(N_fft)]))
axs[2].set_title('Two Sided FFT plot of the Complex Information Signal')
axs[2].set_ylabel('Magnitude')
axs[2].set_xlabel('Frequency, MHz')
fig.tight_layout()





fc = 1400e6 # Carrier Frequency

# Define complex exponential used for modulation
c_complex = np.exp(1j*2*np.pi*fc*t)


# Find FFT of complex exponential
c_complex_fft_result = np.fft.fft(c_complex, N_fft)





fig, axs = plt.subplots(1,2, figsize=(20,4))
axs[0].plot(c_complex.real[:100])
axs[0].plot(c_complex.imag[:100])
axs[0].set_title('Time Domain Complex Carrier')
axs[0].set_xlabel('Samples')
axs[0].set_ylabel('Amplitude')
axs[0].legend(('I Component', 'Q Component'))

axs[1].plot(freqs[:int(N_fft)]/1e6, np.abs(c_complex_fft_result[:int(N_fft)]))
axs[1].set_title('Two Sided FFT plot of the Complex Carrier')
axs[1].set_ylabel('Magnitude')
axs[1].set_xlabel('Frequency, MHz')
fig.tight_layout()








# Find complex modulated signal v(t)
v = g_complex*c_complex


# Find FFT of real modulated signal
v_fft_result = np.fft.fft(v, N_fft)





fig, axs = plt.subplots(1,2, figsize=(20,4))
axs[0].plot(v.real[:200])
axs[0].plot(v.imag[:200])
axs[0].set_title('Time Domain Complex Carrier Signal')
axs[0].set_xlabel('Samples')
axs[0].set_ylabel('Amplitude')
axs[0].legend(('I signal Component', 'Q Signal Component'))

axs[1].plot(freqs[:int(N_fft)]/1e6, np.abs(v_fft_result[:int(N_fft)]))
axs[1].set_title('Two Sided FFT plot of the Complex Modulated Signal')
axs[1].set_ylabel('Magnitude')
axs[1].set_xlabel('Frequency, MHz')
fig.tight_layout()





# Find Real modulated signal
y = v.real


# Find FFT of real modulated signal
y_fft_result = np.fft.fft(y, N_fft)





fig, axs = plt.subplots(1,2, figsize=(20,4))
axs[0].plot(y[:200])
axs[0].set_title('Time Domain Real Modulated Signal')
axs[0].set_xlabel('Samples')
axs[0].set_ylabel('Amplitude')

axs[1].plot(freqs[:int(N_fft/2)]/1e6, np.abs(y_fft_result[:int(N_fft/2)]))
axs[1].set_title('One Sided FFT plot of the Real Modulated Signal')
axs[1].set_ylabel('Magnitude')
axs[1].set_xlabel('Frequency, MHz')
fig.tight_layout()











# Define local exponential carrier at the receiver
complex_demod_carrier = np.exp(-1j*2*np.pi*fc*t)


# Find FFT of real modulated signal
complex_demod_carrier_fft_result = np.fft.fft(complex_demod_carrier, N_fft)





fig, axs = plt.subplots(1,2, figsize=(20,4))
axs[0].plot(complex_demod_carrier.real[:100])
axs[0].plot(complex_demod_carrier.imag[:100])
axs[0].set_title('Time Domain Complex Carrier')
axs[0].set_xlabel('Samples')
axs[0].set_ylabel('Amplitude')
axs[0].legend(('I Component', 'Q Component'))

axs[1].plot(freqs[:int(N_fft)]/1e6, np.abs(complex_demod_carrier_fft_result[:int(N_fft)]))
axs[1].set_title('Two Sided FFT plot of the Complex Carrier')
axs[1].set_ylabel('Magnitude')
axs[1].set_xlabel('Frequency, MHz')
fig.tight_layout()





# Demodulate by multiplying y(t) by the exponential
x = y*complex_demod_carrier


# Find FFT of demodulated signals
x_fft_result = np.fft.fft(x, N_fft)





fig, axs = plt.subplots(1,2, figsize=(20,4))
axs[0].plot(x.real[:200])
axs[0].plot(x.imag[:200])
axs[0].set_title('Time Domain Complex Demodulated Signal')
axs[0].set_xlabel('Samples')
axs[0].set_ylabel('Amplitude')
axs[0].legend(('I Demodulated Signal', 'Q Demodulated Signal'))

axs[1].plot(freqs[:int(N_fft)]/1e6, np.abs(x_fft_result[:int(N_fft)]))
axs[1].set_title('Two Sided FFT plot of the Complex Demodulated Signal')
axs[1].set_ylabel('Magnitude')
axs[1].set_xlabel('Frequency, MHz')
fig.tight_layout()





# Define lowpass filter
f_cutoff = 0.1 # Cutoff frequency as a fraction of the sampling rate
b = 0.08  # Transition band, as a fraction of the sampling rate (in (0, 0.5)).

N = int(np.ceil((4 / b)))
if not N % 2: N += 1  # N is odd.
n = np.arange(N)

h = np.sinc(2 * f_cutoff * (n - (N - 1) / 2)) # Compute sinc filter.
w = np.blackman(N) # Compute Blackman window.
h = h * w # Multiply sinc filter by window.
h = h / np.sum(h) # Normalize to get unity gain.


# Apply filter to demodulated signal
z = np.convolve(x, h)


# Find FFT of filtered signal
z_fft_result = np.fft.fft(z, N_fft)





fig, axs = plt.subplots(1,3, figsize=(20,4))
axs[0].plot(z.real[:200])
axs[0].plot(z.imag[:200])
axs[0].set_title('Time Domain Lowpass \nFiltered Complex Demodulated Signal')
axs[0].set_xlabel('Samples')
axs[0].set_ylabel('Amplitude')
axs[0].legend(('I Signal Component', 'Q Signal Component'))

axs[1].plot(freqs[:int(N_fft/2)]/1e6, np.abs(z_fft_result[:int(N_fft/2)]))
axs[1].set_title('One Sided FFT plot of the Lowpass \nFiltered Complex Demodulated Signal')
axs[1].set_ylabel('Magnitude')
axs[1].set_xlabel('Frequency, MHz')
fig.tight_layout()

axs[2].plot(freqs[:int(N_fft)]/1e6, np.abs(z_fft_result[:int(N_fft)]))
axs[2].set_title('Two Sided FFT plot of the Lowpass\n Filtered Complex Demodulated Signal')
axs[2].set_ylabel('Magnitude')
axs[2].set_xlabel('Frequency, MHz')
fig.tight_layout()






