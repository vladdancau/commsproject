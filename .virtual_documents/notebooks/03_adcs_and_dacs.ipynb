





import matplotlib.pyplot as plt
import numpy as np
import helper_functions as hf
from scipy import signal








Aa = 0.25   # Amplitude a
Ab = 0.5    # Amplitude b
fa = 50     # Desired frequency a
fb = 240    # Desired frequency b
t  = 0.2    # Time

fs_cont = 2400    # Sampling rate of 'continuous' signal

# Define 'continuous' signal for comparison
x_cont = np.arange(0, t, 1/fs_cont)
N_cont = np.size(x_cont)
noise  = np.random.normal(0, 0.01, N_cont)
y_cont = Aa * np.sin(2 * np.pi * fa * x_cont + 10) + Ab * np.sin(2 * np.pi * fb * x_cont) + noise

# Plot the 'continuous' signal
hf.plot_timeseries("Continuous Signal",
                   [x_cont], [y_cont], 
                   ['continuous'])





# Compute the log-scale power spectra of the 'continuous' signal
Y_cont = np.fft.fft(y_cont)
Y_cont_norm = np.abs(Y_cont)*2/N_cont
Y_cont_log = 20*np.log10(Y_cont_norm)

# Plot the log-scale power spectra
fig = plt.figure(figsize=(10,4))
axes = fig.add_subplot(1, 1, 1)
axes.plot(np.arange(0, N_cont//2+1)*fs_cont/N_cont, Y_cont_log[0:N_cont//2+1])
axes.set_title('Power Spectra of the Continuous Signal')
axes.set_xlabel('Frequency (Hz)')
axes.set_ylabel('Power Spectra (dB)')
axes.grid(True, 'Major')





# Sampled signal
fs = 200
x = np.arange(0, t, 1/fs)   # Discrete time i.e. sampled time period
N = np.size(x)
y = y_cont[0::fs_cont//fs]  # Get sampled signal

# Plot the sampled signal
hf.plot_timeseries("Sampled Signal",
                   [x_cont, x], [y_cont, y], 
                   ['continuous','discrete'])





# Compute the sampled signal's log-scale power spectra
Y = np.fft.fft(y)
Y_norm = np.abs(Y)*2/N
Y_log = 20*np.log10(Y_norm)

# Plot the log-scale power spectra of the sampled signal
fig = plt.figure(figsize=(10,4))
axes = fig.add_subplot(1, 1, 1)
axes.plot(np.arange(0, N//2+1)*fs/N, Y_log[0:N//2+1])
axes.set_title('Power Spectra of the Sampled Signal')
axes.set_xlabel('Frequency (Hz)')
axes.set_ylabel('Power Spectra (dB)')
axes.grid(True, 'Major')








# A simple function to generate a lowpass filter
def generate_lowpass(fs, cutoff, stop, numtaps):
    taps = signal.remez(numtaps, [0, cutoff, stop, 0.5*fs], [1, 0], Hz=fs)
    w, h = signal.freqz(taps, [1], worN=2000)
    return w, h, taps





# Obtain the anti-alias response and plot
numtaps = 151
w, h, coeffs = generate_lowpass(fs_cont, fs/2, 1.4*(fs/2), numtaps)
hf.plot_response(fs_cont, w, h, title = "Low-Pass Filter")





# Filter the 'continuous' signal
y_cont_anti = signal.filtfilt(coeffs, 1, y_cont)





# Plot the 'continuous' signal filtered by the anti-alias filter
hf.plot_timeseries("Continuous Signal Filtered by Anti-Alias Filter",
                   [x_cont], [y_cont_anti],
                   ['continuous'])





# Compute the log-scale power spectra of the anti-aliased signal
Y_cont_anti = np.fft.fft(y_cont_anti)
Y_cont_anti_norm = np.abs(Y_cont_anti)*2/N_cont
Y_cont_anti_log = 20*np.log10(Y_cont_anti_norm)

# Plot the log-scale power spectra of the anti-aliased signal
fig = plt.figure(figsize=(10,4))
axes = fig.add_subplot(1, 1, 1)
axes.plot(np.arange(0, N_cont//2+1)*fs_cont/N_cont, Y_cont_anti_log[0:N_cont//2+1])
axes.set_title('Power Spectra of the Continuous Signal Filtered by the Anti-Alias Filter')
axes.set_xlabel('Frequency (Hz)')
axes.set_ylabel('Power Spectra (dB)')
axes.grid(True, 'Major')





# Sample the continuous signal filtered by the anti-alias filter
y_anti = y_cont_anti[0::fs_cont//fs]

# Compute the log-scale power spectra of the sampled filtered signal
Y_anti = np.fft.fft(y_anti)
Y_anti_norm = np.abs(Y_anti)*2/N
Y_anti_log = 20*np.log10(Y_anti_norm)

# Plot the log-scale power spectra of the sampled filtered signal
fig = plt.figure(figsize=(10,4))
axes = fig.add_subplot(1, 1, 1)
axes.plot(np.arange(0, N//2+1)*fs/N, Y_anti_log[0:N//2+1])
axes.set_title('Power Spectra of the Sampled Wave Filtered by the Anti-Alias Filter')
axes.set_xlabel('Frequency (Hz)')
axes.set_ylabel('Power Spectra (dB)')
axes.grid(True, 'Major')











def zero_order_hold(signal, fs):
    # New time axis for 'continuous' signal
    x_zoh = np.arange(0, len(signal)/fs, 1/48000)
    
    # Zero pad the original signal to new rate
    y_zoh = np.zeros(len(x_zoh))
    y_zoh_indices = y_zoh[::int(np.round(48000/fs))]
    y_zoh_indices[0:len(signal)] = signal
    y_zoh[::int(np.round(48000/fs))] = y_zoh_indices
    
    # Create ZOH impulse response and convolve with input signal
    h_zoh = np.ones(int(48000/fs))
    y_zoh = np.convolve(h_zoh,y_zoh)
    
    # Chop of end to match time axis length
    y_zoh = y_zoh[0:len(x_zoh)] 
    
    return x_zoh, y_zoh





A = 1       # Amplitude
f = 100     # Desired frequency 
t = 0.2    # Time
fs = 80    # Sampling rate

# Define 'continuous' signal for comparison
x_cont = np.arange(0, t, 1/48000)            
y_cont = A * np.sin(2 * np.pi * f * x_cont + 10)  

# Sampled signal
x = np.arange(0, t, 1/fs)                # Discrete time i.e. sampled time period
y = A * np.sin(2 * np.pi * f * x + 10)   # Formula for sine wave

hf.plot_timeseries("Sampled Signal",
                   [x_cont, x], [y_cont, y], 
                   ['continuous','discrete'])

# Perform ZOH on sampled signal
[x_zoh, y_zoh] = zero_order_hold(y, fs)
ax = hf.plot_timeseries("Zero Order Hold", 
                        [x_zoh], [y_zoh], 
                        ['continuous'])





R = 3
fs_cont = 48000
Fs = fs*R
w, h, coeffs = generate_lowpass(Fs, fs/2, 1.4*(fs/2), 15)
hf.plot_response(Fs, w, h, title = "Low-Pass Filter")





x_ov = np.arange(0, t, 1/(Fs))
y_ov = np.zeros(len(y)*R)
y_ov[::R] = y

y_lp = signal.filtfilt(coeffs, 1, y_ov) * R
hf.plot_timeseries("Interpolated Signal, R = 3",
                   [x_ov], [y_lp],
                  ['discrete'])





# Perform ZOH on sampled signal
[x_zoh, y_zoh] = zero_order_hold(y_lp, Fs)
hf.plot_timeseries("Zero-Order-Hold",
                   [x_zoh], [y_zoh],
                   ['continuous'])





w, h, coeffs = generate_lowpass(fs_cont, fs/2, Fs/2, 400)
hf.plot_response(fs_cont, w, h, title = "Low-Pass Filter")





# [x_zoh, y_zoh] = zero_order_hold(y, fs)
y_recon = signal.filtfilt(coeffs, 1, y_zoh)
hf.plot_timeseries("Reconstructed Signal and Zero-Order-Hold Signal",
                   [x_zoh, x_zoh], [y_zoh, y_recon],
                   ['continuous','continuous'])






