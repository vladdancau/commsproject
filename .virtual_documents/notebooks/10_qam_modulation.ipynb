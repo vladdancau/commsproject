





import numpy as np
import matplotlib.pyplot as plt





# Set basic params
fs = 4096e6 # sample rate
fb = 64e6 # frequency of baseband signal
fb2 = 32e6 # frequency of second baseband signal
A1 = 2 # baseband signal amplitude
A2 = 1 # second baseband signal amplitude
N_fft = 2048 # fft size

t = np.arange(N_fft)/fs #time scale





g1 = A1*np.cos(2*np.pi*fb*t)
g2 = A2*np.cos(2*np.pi*fb2*t)


# Calculate FFT
g1_fft_result = np.fft.fft(g1, N_fft)
g2_fft_result = np.fft.fft(g2, N_fft)

# Get the corresponding frequencies, that depend on N_fft and Fs - freq. domain x axis
freqs = np.fft.fftfreq(N_fft,1/fs)





fig, axs = plt.subplots(1,2, figsize=(15,4))
axs[0].plot(g1[:200])
axs[0].plot(g2[:200])
axs[0].set_title('Time Domain Baseband Information Signals')
axs[0].set_xlabel('Samples')
axs[0].set_ylabel('Amplitude')
axs[0].legend(('Information Signal 1', 'Information Signal 2'))

axs[1].plot(freqs[:int(N_fft/2)]/1e6, np.abs(g1_fft_result[:int(N_fft/2)]))
axs[1].plot(freqs[:int(N_fft/2)]/1e6, np.abs(g2_fft_result[:int(N_fft/2)]))
axs[1].set_title('One Sided FFT plot of the Baseband Information Signals')
axs[1].set_ylabel('Magnitude')
axs[1].set_xlabel('Frequency, MHz')
axs[1].legend(('Information Signal 1', 'Information Signal 2'))
fig.tight_layout()





fc = 1400e6 # Carrier Frequency 

# Find I and Q modulated signals
s1 = g1*np.cos(2*np.pi*fc*t)
s2 = -g2*np.sin(2*np.pi*fc*t)


# Find FFT of modulated signals
s1_fft_result = np.fft.fft(s1, N_fft)
s2_fft_result = np.fft.fft(s2, N_fft)





fig, axs = plt.subplots(1,2, figsize=(15,4))
axs[0].plot(s1[:200])
axs[0].plot(s2[:200])
axs[0].set_title('Time Domain Modulated I and Q Signals')
axs[0].set_xlabel('Samples')
axs[0].set_ylabel('Amplitude')
axs[0].legend(('I Modulated Signal', 'Q Modulated Signal'))

axs[1].plot(freqs[:int(N_fft/2)]/1e6, np.abs(s1_fft_result[:int(N_fft/2)]))
axs[1].plot(freqs[:int(N_fft/2)]/1e6, np.abs(s2_fft_result[:int(N_fft/2)]))
axs[1].set_title('One Sided FFT plot of the Modulated I and Q Signals')
axs[1].set_ylabel('Magnitude')
axs[1].set_xlabel('Frequency, MHz')
axs[1].legend(('I Modulated Signal', 'Q Modulated Signal'))
fig.tight_layout()





# Find sum of modulated signals
y = s1 + s2 # sum of modulated signals


# Find FFT of Summed Signal
y_fft_result = np.fft.fft(y, N_fft)





fig, axs = plt.subplots(1,2, figsize=(15,4))
axs[0].plot(y[:200])
axs[0].set_title('Time Domain Modulated Signal')
axs[0].set_xlabel('Samples')
axs[0].set_ylabel('Amplitude')

axs[1].plot(freqs[:int(N_fft/2)]/1e6, np.abs(y_fft_result[:int(N_fft/2)]))
axs[1].set_title('One Sided FFT plot of the Modulated Signal')
axs[1].set_ylabel('Magnitude')
axs[1].set_xlabel('Frequency, MHz')
fig.tight_layout()








# Find demodulated signals - y(t)*(I or Q carrier)
x1 = y*np.cos(2*np.pi*fc*t) # I demodulated signal
x2 = y*(-np.sin(2*np.pi*fc*t)) # Q demodulated signal


# Find FFT of demodulated signals
x1_fft_result = np.fft.fft(x1, N_fft)
x2_fft_result = np.fft.fft(x2, N_fft)





fig, axs = plt.subplots(2,2, figsize=(15,4))
axs[0, 0].plot(x1[:300])
axs[0, 0].set_title('Time Domain Demodulated I Signal')
axs[0, 0].set_xlabel('Samples')
axs[0, 0].set_ylabel('Amplitude')

axs[0, 1].plot(freqs[:int(N_fft/2)]/1e6, np.abs(x1_fft_result[:int(N_fft/2)]))
axs[0, 1].set_title('One Sided FFT plot of the Demodulated I Signal')
axs[0, 1].set_ylabel('Magnitude')
axs[0, 1].set_xlabel('Frequency, MHz')

axs[1, 0].plot(x2[:300])
axs[1, 0].set_title('Time Domain Demodulated Q Signal')
axs[1, 0].set_xlabel('Samples')
axs[1, 0].set_ylabel('Amplitude')

axs[1, 1].plot(freqs[:int(N_fft/2)]/1e6, np.abs(x2_fft_result[:int(N_fft/2)]))
axs[1, 1].set_title('One Sided FFT plot of the Demodulated Q Signal')
axs[1, 1].set_ylabel('Magnitude')
axs[1, 1].set_xlabel('Frequency, MHz')
fig.tight_layout()





# Define lowpass filter
f_cutoff = 0.1 # Cutoff frequency as a fraction of the sampling rate
b = 0.08  # Transition band, as a fraction of the sampling rate (in (0, 0.5)).

N = int(np.ceil((4 / b)))
if not N % 2: N += 1  # N is odd.
n = np.arange(N)

h = np.sinc(2 * f_cutoff * (n - (N - 1) / 2)) # Compute sinc filter.
w = np.blackman(N) # Compute Blackman window.
h = h * w # Multiply sinc filter by window.
h = h / np.sum(h) # Normalize to get unity gain.


# Apply filter to demodulated signals using convolution
z1 = np.convolve(x1, h)
z2 = np.convolve(x2, h)


# Find FFT of filtered signals
z1_fft_result = np.fft.fft(z1, N_fft)
z2_fft_result = np.fft.fft(z2, N_fft)





fig, axs = plt.subplots(1,2, figsize=(15,4))
axs[0].plot(z1[:200])
axs[0].plot(z2[:200])
axs[0].set_title('Time Domain Lowpass Filtered Demodulated I and Q Signals')
axs[0].set_xlabel('Samples')
axs[0].set_ylabel('Amplitude')
axs[0].legend(('I Demodulated Signal', 'Q Demodulated Signal'))

axs[1].plot(freqs[:int(N_fft/2)]/1e6, np.abs(z1_fft_result[:int(N_fft/2)]))
axs[1].plot(freqs[:int(N_fft/2)]/1e6, np.abs(z2_fft_result[:int(N_fft/2)]))
axs[1].set_title('One Sided FFT plot of the Lowpass Filtered Demodulated I and Q Signals')
axs[1].set_ylabel('Magnitude')
axs[1].set_xlabel('Frequency, MHz')
axs[1].legend(('I Demodulated Signal', 'Q Demodulated Signal'))
fig.tight_layout()








# Create phase shift
phaseshift = (np.pi/3) #60 degree phase shift

# Apply phaseshifted I and Q carriers to modulated signal y(t)
x1_phaseshift = y*np.cos(2*np.pi*fc*t + phaseshift)
x2_phaseshift = y*(-np.sin(2*np.pi*fc*t + phaseshift))

# Apply lowpass filter to I and Q demodulated phase shifted signals
z1_phaseshift = np.convolve(x1_phaseshift, h)
z2_phaseshift = np.convolve(x2_phaseshift, h)


# Find FFT of phase shifted signal
z1_phaseshift_fft_result = np.fft.fft(z1_phaseshift, N_fft)
z2_phaseshift_fft_result = np.fft.fft(z2_phaseshift, N_fft)





fig, axs = plt.subplots(1,3, figsize=(20,4))
axs[0].plot(z1_phaseshift[:200])
axs[0].plot(z2_phaseshift[:200])
axs[0].set_title('Time Domain Lowpass Filtered \nDemodulated Signals with Phase Offset')
axs[0].set_xlabel('Samples')
axs[0].set_ylabel('Amplitude')
axs[0].legend(('I Demodulated Signal', 'Q Demodulated Signal'))

axs[1].plot(freqs[:int(N_fft/2)]/1e6, np.abs(z1_phaseshift_fft_result[:int(N_fft/2)]))
axs[1].set_title('One Sided FFT plot of the I Lowpass Filtered \nDemodulated Signals with Phase Offset')
axs[1].set_ylabel('Magnitude')
axs[1].set_xlabel('Frequency, MHz')

axs[2].plot(freqs[:int(N_fft/2)]/1e6, np.abs(z2_phaseshift_fft_result[:int(N_fft/2)]))
axs[2].set_title('One Sided FFT plot of the Q Lowpass Filtered \nDemodulated Signals with Phase Offset')
axs[2].set_ylabel('Magnitude')
axs[2].set_xlabel('Frequency, MHz')

fig.tight_layout()






