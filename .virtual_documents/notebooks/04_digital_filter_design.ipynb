

















from scipy import signal





fc = 0.2 # normalised cutoff frequency (% of Nyquist)
N = 101 # length of filter (number of coefficients)

freq = [0, fc, fc, 1] # frequency sampling points of filter (up to Nyquist)
gain = [1, 1, 0, 0] # filter gains at frequency sampling points





lpf = signal.firwin2(N, freq, gain)





import numpy as np

def get_normalised_fft(x, NFFT):
    X = np.fft.fft(x,NFFT)
    return X/max(abs(X)) # normalise


NFFT = 4096 # FFT length
nf = np.linspace(0, 2, NFFT)

lpf_fft = get_normalised_fft(lpf, NFFT)
lpf_fft_db = 20*np.log10(abs(lpf_fft)) # convert to dB





import matplotlib.pyplot as plt

plt.figure(figsize=(12,3))
plt.xlabel('Frequency (normalised)')
plt.ylabel('Magnitude (dB)')
plt.xlim(0,1)
plt.ylim(-100,5)
plt.grid(True)

plt.plot(nf, lpf_fft_db, label="Lowpass filter")

plt.legend()
plt.show()





plt.figure(figsize=(12,3))
plt.xlabel('Frequency (normalised)')
plt.ylabel('Magnitude (dB)')
plt.xlim(0,1)
plt.ylim(-0.05,0.05)
plt.grid(True)

plt.plot(nf, lpf_fft_db)
plt.show()








lpf_phase = np.unwrap(np.angle(lpf_fft))





plt.figure(figsize=(12,3))

plt.xlabel('Frequency (normalised)')
plt.ylabel('Magnitude (dB)')
plt.xlim(0,1)
plt.ylim(-100,5)
plt.plot(nf, lpf_fft_db)

plt.twinx()
plt.ylabel("Angle (radians)")
plt.axis('tight')
plt.xlim(0,1)
plt.ylim(np.floor(min(lpf_phase[0:int(len(lpf_phase)/2)])) ,3)
plt.plot(nf, lpf_phase, color='tab:orange')

plt.grid(True)
plt.show()








w_hamming = np.hamming(N)
w_hann = np.hanning(N)
w_blackman = np.blackman(N)





# Types of windows

plt.figure(figsize=(12,3))
plt.plot(w_hamming, label="Hamming")
plt.plot(w_hann, label="Hann")
plt.plot(w_blackman, label="Blackman")
plt.xlim(0,101-1)
plt.xlabel("N (samples)")
plt.ylabel("Amplitude")

plt.legend()
plt.grid(True)
plt.show()





n = np.arange(-(N-1)/2,(N-1)/2+1)
fc = 0.3 # normalised cutoff frequency (% of Nyquist)
hd_n = np.sinc(fc*n)

h_n = hd_n * w_hamming





plt.figure(figsize=(12,3))
plt.plot(hd_n, label="Ideal")
plt.plot(h_n, label="Windowed")
plt.grid(True)
plt.xlim(0,len(h_n)-1)
plt.ylabel("Amplitude")
plt.xlabel("N (samples)")
plt.legend()
plt.show()





hd_n_fft = 20*np.log(abs(get_normalised_fft(hd_n, NFFT))) # get the magnitude in dB
h_n_fft = 20*np.log(abs(get_normalised_fft(h_n, NFFT)))

nf_norm = np.linspace(0,2,NFFT)

plt.figure(figsize=(12,3))
plt.xlabel('Frequency (Normalised)')
plt.ylabel('Magnitude (dB)')
plt.xlim(0,1)
plt.ylim(-200,5)
plt.grid(True)

plt.plot(nf_norm, hd_n_fft, label="Ideal")
plt.plot(nf_norm, h_n_fft, label="Windowed")

plt.legend()
plt.show()





plt.figure(figsize=(12,3))
plt.xlabel('Frequency (Normalised)')
plt.ylabel('Magnitude (dB)')
plt.xlim(0,0.4)
plt.ylim(-3,1)
plt.grid(True)

plt.plot(nf_norm, hd_n_fft, label="Ideal")
plt.plot(nf_norm, h_n_fft, label="Windowed")

plt.legend()
plt.show()





freq = [0, 0.4, 0.4, 0.6, 0.6, 1]
gain = [1, 1, 0, 0, 1, 1]
N = 101

h_wm = signal.firwin2(N, freq, gain, window='blackman')





h_wm_fft = 20*np.log(abs(get_normalised_fft(h_wm, NFFT)))

nf_norm = np.linspace(0,2,NFFT)

plt.figure(figsize=(12,3))
plt.xlabel('Frequency (Normalised)')
plt.ylabel('Magnitude (dB)')
plt.xlim(0,1)
# plt.ylim(-300,5)
plt.grid(True)

plt.plot(nf_norm, h_wm_fft)

plt.show()








N = 101
tb = 0.01 # transition bandwidth (%)
freq = [0, 0.20-tb, 0.20, 0.3, 0.30+tb, 0.5]
gain = [1,0,1]

h_pm = signal.remez(N, freq, gain)





h_pm_fft = 20*np.log(abs(get_normalised_fft(h_pm, NFFT)))

nf_norm = np.linspace(0,2,NFFT)

plt.figure(figsize=(12,3))
plt.xlabel('Frequency (Normalised)')
plt.ylabel('Magnitude (dB)')
plt.xlim(0,1)
# plt.ylim(-100,5)
plt.grid(True)

plt.plot(nf_norm, h_pm_fft)

plt.show()








tb = 0.01 # transition bandwidth (%)
freq = [0, 0.40-tb, 0.4, 0.60, 0.60+tb, 1]
gain = [1, 1, 0, 0, 1, 1]
N = 101

h_ls = signal.firls(N, freq, gain)





h_ls_fft = 20*np.log(abs(get_normalised_fft(h_ls, NFFT)))

nf_norm = np.linspace(0,2,NFFT)

plt.figure(figsize=(12,3))
plt.xlabel('Frequency (Normalised)')
plt.ylabel('Magnitude (dB)')
plt.xlim(0,1)
plt.grid(True)

plt.plot(nf_norm, h_ls_fft)

plt.show()






