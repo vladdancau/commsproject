


import numpy as np
import matplotlib.pyplot as plt
import helper_functions as hf
import ipywidgets as widgets
from ipywidgets import HBox, VBox
import numpy as np
import matplotlib.pyplot as plt
from IPython.display import display
%matplotlib inline





fs_cont = 10e3 #Hz
ts_cont = 1/fs_cont
n_cont  = np.arange(0, 2000)
fd = 13 #Hz

x_cont = n_cont/fs_cont
y_cont = np.sin(2*np.pi*fd*ts_cont*n_cont)

hf.plot_timeseries("Continuous Waveform",
                   [x_cont], [y_cont],
                   ['continuous'])





Vmax = 1
N  = 4
q  = Vmax/(2**(N-1))
levels = np.arange(-1, 1, q)

print('Quantisation levels for 4 bits:')
for idx, level in enumerate(levels):
    print('Decimal: ', idx-2**(N-1), ' |  Discrete Level: ', level)





# Set sampling parameters
fs = 100 #Hz
ts = 1/fs
n  = np.arange(0, 21)

# Perform sampling process
x = n/fs
y = np.sin(2*np.pi*fd*ts*n)

# And plot
hf.plot_timeseries("Discrete Signal Sampled at 100Hz, No Amplitude Quantisation",
                   [x_cont, x], [y_cont, y],
                   ['continuous', 'discrete'])





# Perform quantisation (4 bits)
yq4 = np.zeros(np.size(y))
N  = 4
q4  = 1/(2**(N-1))
levels = np.arange(-1, 1, q4)
for idx, sample in enumerate(y):
    yq4[idx] = min(levels, key=lambda x:abs(x-sample))

hf.plot_timeseries("Quantisation using 4 Bits",
                   [x_cont, x], [y_cont, yq4],
                   ['continuous', 'discrete'])





# Perform quantisation (6 bits)
yq6 = np.zeros(np.size(y))
N  = 6
q6  = 1/(2**(N-1))
levels = np.arange(-1, 1, q6)
for idx, sample in enumerate(y):
    yq6[idx] = min(levels, key=lambda x:abs(x-sample))

hf.plot_timeseries("Quantisation using 6 Bits",
                   [x_cont, x], [y_cont, yq6],
                   ['continuous', 'discrete'])





N_vec = np.arange(2, 17, 1)
DR_vec = N_vec * 6.02
for idx, DR in enumerate(DR_vec):
    print('Number of bits: ', N_vec[idx], ' | Dynamic Range (dB): ', np.round(DR))





# Set sampling parameters
fs = 100 #Hz
ts = 1/fs
L  = 2048
n  = np.arange(0, L)
fd = 10.001

# Perform sampling process
x = n/fs
y = 0.7071*np.sin(2*np.pi*fd*ts*n)

# And plot
hf.plot_timeseries("Discrete Signal Sampled at 100Hz, No Amplitude Quantisation",
                   [x[0:100]], [y[0:100]],
                   ['discrete'])





Y = np.fft.fft(y)
Y_norm = np.abs(Y)*2/L
Y_log = 20*np.log10(Y_norm)

fig = plt.figure(figsize=(10,4))
axes = fig.add_subplot(1, 1, 1)
axes.plot(n[0:L//2+1]*fs/L, Y_log[0:L//2+1])
axes.set_title('Power Spectra of the Sampled Wave')
axes.set_xlabel('Frequency (Hz)')
axes.set_ylabel('Power Spectra (dB)')
axes.grid(True, 'Major')





yq4 = np.zeros(np.size(y))
N   = 4
q4  = 1/(2**(N-1))
levels = np.arange(-1, 1, q4)
for idx, sample in enumerate(y):
    yq4[idx] = min(levels, key=lambda x:abs(x-sample))
    
hf.plot_timeseries("Quantisation using 4 Bits",
                   [x[0:100]], [yq4[0:100]],
                   ['discrete'])





Yq4 = np.fft.fft(yq4)
Yq4_norm = np.abs(Yq4)*2/L
Yq4_log = 20*np.log10(Yq4_norm)

fig = plt.figure(figsize=(10,4))
axes = fig.add_subplot(1, 1, 1)
axes.plot(n[0:L//2+1]*fs/L, Yq4_log[0:L//2+1])
axes.set_title('Power Spectra of the Quantised Wave')
axes.set_xlabel('Frequency (Hz)')
axes.set_ylabel('Power Spectra (dB)')
axes.grid(True, 'Major')





noise_power = (q4**2)/12
noise_power





dither = np.random.normal(0,np.sqrt(noise_power),L)

hf.plot_timeseries("Dither Signal",
                   [x[0:100]], [dither[0:100]],
                   ['discrete'])





yd = y+dither

yq4d = np.zeros(np.size(y))
for idx, sample in enumerate(yd):
    yq4d[idx] = min(levels, key=lambda x:abs(x-sample))

hf.plot_timeseries("Quantised Signal with added Noise",
                   [x[0:100]], [yq4d[0:100]],
                   ['discrete'])





Yq4d = np.fft.fft(yq4d)
Yq4d_norm = np.abs(Yq4d)*2/L
Yq4d_log = 20*np.log10(Yq4d_norm)

fig = plt.figure(figsize=(10,4))
axes = fig.add_subplot(1, 1, 1)
axes.plot(n[0:L//2+1]*fs/L, Yq4_log[0:L//2+1])
axes.plot(n[0:L//2+1]*fs/L, Yq4d_log[0:L//2+1])
axes.set_title('Comparing Power Spectra with and without Dithering')
axes.set_xlabel('Frequency (Hz)')
axes.set_ylabel('Power Spectra (dB)')
axes.grid(True, 'Major')






